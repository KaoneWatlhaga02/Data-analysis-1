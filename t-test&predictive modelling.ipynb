{
 "cells": [
  {
   "cell_type": "code",
   "execution_count": 3,
   "id": "361163fa",
   "metadata": {},
   "outputs": [
    {
     "name": "stdout",
     "output_type": "stream",
     "text": [
      "                event_time event_type  product_id   category_id  \\\n",
      "0  2019-10-01 00:00:00 UTC       view    44600062  2.103810e+18   \n",
      "1  2019-10-01 00:00:00 UTC       view     3900821  2.053010e+18   \n",
      "2  2019-10-01 00:00:01 UTC       view    17200506  2.053010e+18   \n",
      "3  2019-10-01 00:00:01 UTC       view     1307067  2.053010e+18   \n",
      "4  2019-10-01 00:00:04 UTC       view     1004237  2.053010e+18   \n",
      "\n",
      "                         category_code     brand    price    user_id  \\\n",
      "0                                  NaN  shiseido    35.79  541312140   \n",
      "1  appliances.environment.water_heater      aqua    33.20  554748717   \n",
      "2           furniture.living_room.sofa       NaN   543.10  519107250   \n",
      "3                   computers.notebook    lenovo   251.74  550050854   \n",
      "4               electronics.smartphone     apple  1081.98  535871217   \n",
      "\n",
      "                           user_session  \n",
      "0  72d76fde-8bb3-4e00-8c23-a032dfed738c  \n",
      "1  9333dfbd-b87a-4708-9857-6336556b0fcc  \n",
      "2  566511c2-e2e3-422b-b695-cf8e6e792ca8  \n",
      "3  7c90fc70-0e80-4590-96f3-13c02c18c713  \n",
      "4  c6bd7419-2748-4c56-95b4-8cec9ff8b80d  \n"
     ]
    }
   ],
   "source": [
    "import pandas as pd\n",
    "import numpy as np\n",
    "import matplotlib.pyplot as plt\n",
    "import seaborn as sns\n",
    "\n",
    "df = pd.read_csv('2019-Oct.csv')\n",
    "print(df.head())"
   ]
  },
  {
   "cell_type": "code",
   "execution_count": 4,
   "id": "ca81c0fa",
   "metadata": {},
   "outputs": [],
   "source": [
    "df['category_code'].fillna(method='ffill',inplace=True)\n",
    "df['brand'].fillna(method='ffill',inplace=True)\n",
    "df['price'].fillna(method='ffill',inplace=True)"
   ]
  },
  {
   "cell_type": "code",
   "execution_count": 5,
   "id": "53e84e8a",
   "metadata": {},
   "outputs": [],
   "source": [
    "df=df[(df[\"category_code\"] == \"computers.notebook\") | (df[\"category_code\"] == \"electronics.smartphone\")]"
   ]
  },
  {
   "cell_type": "code",
   "execution_count": 6,
   "id": "520c96c8",
   "metadata": {},
   "outputs": [
    {
     "data": {
      "text/html": [
       "<div>\n",
       "<style scoped>\n",
       "    .dataframe tbody tr th:only-of-type {\n",
       "        vertical-align: middle;\n",
       "    }\n",
       "\n",
       "    .dataframe tbody tr th {\n",
       "        vertical-align: top;\n",
       "    }\n",
       "\n",
       "    .dataframe thead th {\n",
       "        text-align: right;\n",
       "    }\n",
       "</style>\n",
       "<table border=\"1\" class=\"dataframe\">\n",
       "  <thead>\n",
       "    <tr style=\"text-align: right;\">\n",
       "      <th></th>\n",
       "      <th>event_time</th>\n",
       "      <th>event_type</th>\n",
       "      <th>product_id</th>\n",
       "      <th>category_id</th>\n",
       "      <th>category_code</th>\n",
       "      <th>brand</th>\n",
       "      <th>price</th>\n",
       "      <th>user_id</th>\n",
       "      <th>user_session</th>\n",
       "    </tr>\n",
       "  </thead>\n",
       "  <tbody>\n",
       "    <tr>\n",
       "      <th>3</th>\n",
       "      <td>2019-10-01 00:00:01 UTC</td>\n",
       "      <td>view</td>\n",
       "      <td>1307067</td>\n",
       "      <td>2.053010e+18</td>\n",
       "      <td>computers.notebook</td>\n",
       "      <td>lenovo</td>\n",
       "      <td>251.74</td>\n",
       "      <td>550050854</td>\n",
       "      <td>7c90fc70-0e80-4590-96f3-13c02c18c713</td>\n",
       "    </tr>\n",
       "    <tr>\n",
       "      <th>4</th>\n",
       "      <td>2019-10-01 00:00:04 UTC</td>\n",
       "      <td>view</td>\n",
       "      <td>1004237</td>\n",
       "      <td>2.053010e+18</td>\n",
       "      <td>electronics.smartphone</td>\n",
       "      <td>apple</td>\n",
       "      <td>1081.98</td>\n",
       "      <td>535871217</td>\n",
       "      <td>c6bd7419-2748-4c56-95b4-8cec9ff8b80d</td>\n",
       "    </tr>\n",
       "    <tr>\n",
       "      <th>9</th>\n",
       "      <td>2019-10-01 00:00:11 UTC</td>\n",
       "      <td>view</td>\n",
       "      <td>1004545</td>\n",
       "      <td>2.053010e+18</td>\n",
       "      <td>electronics.smartphone</td>\n",
       "      <td>huawei</td>\n",
       "      <td>566.01</td>\n",
       "      <td>537918940</td>\n",
       "      <td>406c46ed-90a4-4787-a43b-59a410c1a5fb</td>\n",
       "    </tr>\n",
       "    <tr>\n",
       "      <th>11</th>\n",
       "      <td>2019-10-01 00:00:11 UTC</td>\n",
       "      <td>view</td>\n",
       "      <td>1005011</td>\n",
       "      <td>2.053010e+18</td>\n",
       "      <td>electronics.smartphone</td>\n",
       "      <td>samsung</td>\n",
       "      <td>900.64</td>\n",
       "      <td>530282093</td>\n",
       "      <td>50a293fb-5940-41b2-baf3-17af0e812101</td>\n",
       "    </tr>\n",
       "    <tr>\n",
       "      <th>18</th>\n",
       "      <td>2019-10-01 00:00:19 UTC</td>\n",
       "      <td>view</td>\n",
       "      <td>1306631</td>\n",
       "      <td>2.053010e+18</td>\n",
       "      <td>computers.notebook</td>\n",
       "      <td>hp</td>\n",
       "      <td>580.89</td>\n",
       "      <td>550050854</td>\n",
       "      <td>7c90fc70-0e80-4590-96f3-13c02c18c713</td>\n",
       "    </tr>\n",
       "  </tbody>\n",
       "</table>\n",
       "</div>"
      ],
      "text/plain": [
       "                 event_time event_type  product_id   category_id  \\\n",
       "3   2019-10-01 00:00:01 UTC       view     1307067  2.053010e+18   \n",
       "4   2019-10-01 00:00:04 UTC       view     1004237  2.053010e+18   \n",
       "9   2019-10-01 00:00:11 UTC       view     1004545  2.053010e+18   \n",
       "11  2019-10-01 00:00:11 UTC       view     1005011  2.053010e+18   \n",
       "18  2019-10-01 00:00:19 UTC       view     1306631  2.053010e+18   \n",
       "\n",
       "             category_code    brand    price    user_id  \\\n",
       "3       computers.notebook   lenovo   251.74  550050854   \n",
       "4   electronics.smartphone    apple  1081.98  535871217   \n",
       "9   electronics.smartphone   huawei   566.01  537918940   \n",
       "11  electronics.smartphone  samsung   900.64  530282093   \n",
       "18      computers.notebook       hp   580.89  550050854   \n",
       "\n",
       "                            user_session  \n",
       "3   7c90fc70-0e80-4590-96f3-13c02c18c713  \n",
       "4   c6bd7419-2748-4c56-95b4-8cec9ff8b80d  \n",
       "9   406c46ed-90a4-4787-a43b-59a410c1a5fb  \n",
       "11  50a293fb-5940-41b2-baf3-17af0e812101  \n",
       "18  7c90fc70-0e80-4590-96f3-13c02c18c713  "
      ]
     },
     "execution_count": 6,
     "metadata": {},
     "output_type": "execute_result"
    }
   ],
   "source": [
    "df.head()"
   ]
  },
  {
   "cell_type": "code",
   "execution_count": 7,
   "id": "7e104969",
   "metadata": {},
   "outputs": [
    {
     "name": "stdout",
     "output_type": "stream",
     "text": [
      "event_time       0\n",
      "event_type       0\n",
      "product_id       0\n",
      "category_id      0\n",
      "category_code    0\n",
      "brand            0\n",
      "price            0\n",
      "user_id          0\n",
      "user_session     0\n",
      "dtype: int64\n"
     ]
    }
   ],
   "source": [
    "print(df.isnull().sum())\n",
    "#check for missing values"
   ]
  },
  {
   "cell_type": "code",
   "execution_count": 8,
   "id": "1314d316",
   "metadata": {},
   "outputs": [],
   "source": [
    "# Create a new DataFrame to hold generated columns\n",
    "new_df = pd.DataFrame({'user_id': df['user_id']})\n",
    "\n",
    "# Generate random values for each column\n",
    "new_df['Age'] = np.random.randint(18, 65, size=len(df['user_id']))\n",
    "new_df['Gender'] = np.random.choice(['Male', 'Female'], size=len(df['user_id']))\n",
    "new_df['Income'] = np.random.randint(20000, 100000, size=len(df['user_id']))\n",
    "new_df['Education'] = np.random.choice(['High School', 'Bachelor\\'s Degree', 'Master\\'s Degree', 'PhD'], size=len(df['user_id']))\n",
    "new_df['Marital Status'] = np.random.choice(['Married', 'Single', 'Divorced', 'Widowed'])\n",
    "new_df['Campaign Response'] = np.random.choice(['Yes', 'No'], size=len(df['user_id']))"
   ]
  },
  {
   "cell_type": "code",
   "execution_count": 9,
   "id": "c6c74e65",
   "metadata": {},
   "outputs": [],
   "source": [
    "user_demographics = new_df.loc[:, ['user_id', 'Age', 'Gender', 'Income', 'Education', 'Marital Status', 'Campaign Response']]"
   ]
  },
  {
   "cell_type": "code",
   "execution_count": 10,
   "id": "baebe3cf",
   "metadata": {},
   "outputs": [
    {
     "data": {
      "text/html": [
       "<div>\n",
       "<style scoped>\n",
       "    .dataframe tbody tr th:only-of-type {\n",
       "        vertical-align: middle;\n",
       "    }\n",
       "\n",
       "    .dataframe tbody tr th {\n",
       "        vertical-align: top;\n",
       "    }\n",
       "\n",
       "    .dataframe thead th {\n",
       "        text-align: right;\n",
       "    }\n",
       "</style>\n",
       "<table border=\"1\" class=\"dataframe\">\n",
       "  <thead>\n",
       "    <tr style=\"text-align: right;\">\n",
       "      <th></th>\n",
       "      <th>user_id</th>\n",
       "      <th>Age</th>\n",
       "      <th>Gender</th>\n",
       "      <th>Income</th>\n",
       "      <th>Education</th>\n",
       "      <th>Marital Status</th>\n",
       "      <th>Campaign Response</th>\n",
       "    </tr>\n",
       "  </thead>\n",
       "  <tbody>\n",
       "    <tr>\n",
       "      <th>3</th>\n",
       "      <td>550050854</td>\n",
       "      <td>20</td>\n",
       "      <td>Female</td>\n",
       "      <td>71503</td>\n",
       "      <td>Bachelor's Degree</td>\n",
       "      <td>Single</td>\n",
       "      <td>No</td>\n",
       "    </tr>\n",
       "    <tr>\n",
       "      <th>4</th>\n",
       "      <td>535871217</td>\n",
       "      <td>55</td>\n",
       "      <td>Female</td>\n",
       "      <td>54363</td>\n",
       "      <td>High School</td>\n",
       "      <td>Single</td>\n",
       "      <td>Yes</td>\n",
       "    </tr>\n",
       "    <tr>\n",
       "      <th>9</th>\n",
       "      <td>537918940</td>\n",
       "      <td>46</td>\n",
       "      <td>Female</td>\n",
       "      <td>62398</td>\n",
       "      <td>High School</td>\n",
       "      <td>Single</td>\n",
       "      <td>No</td>\n",
       "    </tr>\n",
       "    <tr>\n",
       "      <th>11</th>\n",
       "      <td>530282093</td>\n",
       "      <td>62</td>\n",
       "      <td>Male</td>\n",
       "      <td>70053</td>\n",
       "      <td>Bachelor's Degree</td>\n",
       "      <td>Single</td>\n",
       "      <td>Yes</td>\n",
       "    </tr>\n",
       "    <tr>\n",
       "      <th>18</th>\n",
       "      <td>550050854</td>\n",
       "      <td>60</td>\n",
       "      <td>Male</td>\n",
       "      <td>76104</td>\n",
       "      <td>PhD</td>\n",
       "      <td>Single</td>\n",
       "      <td>No</td>\n",
       "    </tr>\n",
       "  </tbody>\n",
       "</table>\n",
       "</div>"
      ],
      "text/plain": [
       "      user_id  Age  Gender  Income          Education Marital Status  \\\n",
       "3   550050854   20  Female   71503  Bachelor's Degree         Single   \n",
       "4   535871217   55  Female   54363        High School         Single   \n",
       "9   537918940   46  Female   62398        High School         Single   \n",
       "11  530282093   62    Male   70053  Bachelor's Degree         Single   \n",
       "18  550050854   60    Male   76104                PhD         Single   \n",
       "\n",
       "   Campaign Response  \n",
       "3                 No  \n",
       "4                Yes  \n",
       "9                 No  \n",
       "11               Yes  \n",
       "18                No  "
      ]
     },
     "execution_count": 10,
     "metadata": {},
     "output_type": "execute_result"
    }
   ],
   "source": [
    "new_df.head()"
   ]
  },
  {
   "cell_type": "code",
   "execution_count": 11,
   "id": "4a43a7e0",
   "metadata": {},
   "outputs": [],
   "source": [
    "new_df = df.groupby('user_id').apply(lambda x: pd.DataFrame({\n",
    "    'user_id': x['user_id'].unique(),\n",
    "    'Age': np.random.randint(18, 65),\n",
    "    'Gender': np.random.choice(['Male', 'Female']),\n",
    "    'Income':np.random.randint(20000, 100000), \n",
    "    'Education': np.random.choice(['High School', 'Bachelor\\'s Degree', 'Master\\'s Degree', 'PhD']),\n",
    "    'Marital Status': np.random.choice(['Married', 'Single', 'Divorced', 'Widowed']),\n",
    "    'Campaign Response': np.random.choice(['Yes', 'No']),\n",
    "}))"
   ]
  },
  {
   "cell_type": "code",
   "execution_count": 12,
   "id": "6cc82d6d",
   "metadata": {},
   "outputs": [],
   "source": [
    "new_df = new_df.reset_index(drop=True)"
   ]
  },
  {
   "cell_type": "code",
   "execution_count": 13,
   "id": "0d704624",
   "metadata": {},
   "outputs": [
    {
     "data": {
      "text/plain": [
       "<bound method NDFrame.tail of           user_id  Age  Gender  Income          Education Marital Status  \\\n",
       "0       244951053   36    Male   51102    Master's Degree       Divorced   \n",
       "1       306087674   40  Female   25247  Bachelor's Degree         Single   \n",
       "2       315309190   27    Male   22470                PhD       Divorced   \n",
       "3       332550649   38    Male   95710        High School       Divorced   \n",
       "4       337535108   43  Female   39095                PhD       Divorced   \n",
       "...           ...  ...     ...     ...                ...            ...   \n",
       "107387  555727499   28    Male   98771        High School        Married   \n",
       "107388  555727577   25    Male   57996        High School        Widowed   \n",
       "107389  555727580   26  Female   37183        High School         Single   \n",
       "107390  555727581   64  Female   92176    Master's Degree         Single   \n",
       "107391  555727730   61  Female   81847    Master's Degree       Divorced   \n",
       "\n",
       "       Campaign Response  \n",
       "0                     No  \n",
       "1                    Yes  \n",
       "2                     No  \n",
       "3                     No  \n",
       "4                    Yes  \n",
       "...                  ...  \n",
       "107387               Yes  \n",
       "107388                No  \n",
       "107389               Yes  \n",
       "107390               Yes  \n",
       "107391                No  \n",
       "\n",
       "[107392 rows x 7 columns]>"
      ]
     },
     "execution_count": 13,
     "metadata": {},
     "output_type": "execute_result"
    }
   ],
   "source": [
    "new_df.tail\n",
    "#df.tail"
   ]
  },
  {
   "cell_type": "code",
   "execution_count": 14,
   "id": "fb923db8",
   "metadata": {},
   "outputs": [],
   "source": [
    "merged_df = pd.concat([df, new_df], axis=1)"
   ]
  },
  {
   "cell_type": "code",
   "execution_count": 15,
   "id": "23a46369",
   "metadata": {},
   "outputs": [
    {
     "data": {
      "text/html": [
       "<div>\n",
       "<style scoped>\n",
       "    .dataframe tbody tr th:only-of-type {\n",
       "        vertical-align: middle;\n",
       "    }\n",
       "\n",
       "    .dataframe tbody tr th {\n",
       "        vertical-align: top;\n",
       "    }\n",
       "\n",
       "    .dataframe thead th {\n",
       "        text-align: right;\n",
       "    }\n",
       "</style>\n",
       "<table border=\"1\" class=\"dataframe\">\n",
       "  <thead>\n",
       "    <tr style=\"text-align: right;\">\n",
       "      <th></th>\n",
       "      <th>event_time</th>\n",
       "      <th>event_type</th>\n",
       "      <th>product_id</th>\n",
       "      <th>category_id</th>\n",
       "      <th>category_code</th>\n",
       "      <th>brand</th>\n",
       "      <th>price</th>\n",
       "      <th>user_id</th>\n",
       "      <th>user_session</th>\n",
       "      <th>user_id</th>\n",
       "      <th>Age</th>\n",
       "      <th>Gender</th>\n",
       "      <th>Income</th>\n",
       "      <th>Education</th>\n",
       "      <th>Marital Status</th>\n",
       "      <th>Campaign Response</th>\n",
       "    </tr>\n",
       "  </thead>\n",
       "  <tbody>\n",
       "    <tr>\n",
       "      <th>3</th>\n",
       "      <td>2019-10-01 00:00:01 UTC</td>\n",
       "      <td>view</td>\n",
       "      <td>1307067.0</td>\n",
       "      <td>2.053010e+18</td>\n",
       "      <td>computers.notebook</td>\n",
       "      <td>lenovo</td>\n",
       "      <td>251.74</td>\n",
       "      <td>550050854.0</td>\n",
       "      <td>7c90fc70-0e80-4590-96f3-13c02c18c713</td>\n",
       "      <td>332550649.0</td>\n",
       "      <td>38.0</td>\n",
       "      <td>Male</td>\n",
       "      <td>95710.0</td>\n",
       "      <td>High School</td>\n",
       "      <td>Divorced</td>\n",
       "      <td>No</td>\n",
       "    </tr>\n",
       "    <tr>\n",
       "      <th>4</th>\n",
       "      <td>2019-10-01 00:00:04 UTC</td>\n",
       "      <td>view</td>\n",
       "      <td>1004237.0</td>\n",
       "      <td>2.053010e+18</td>\n",
       "      <td>electronics.smartphone</td>\n",
       "      <td>apple</td>\n",
       "      <td>1081.98</td>\n",
       "      <td>535871217.0</td>\n",
       "      <td>c6bd7419-2748-4c56-95b4-8cec9ff8b80d</td>\n",
       "      <td>337535108.0</td>\n",
       "      <td>43.0</td>\n",
       "      <td>Female</td>\n",
       "      <td>39095.0</td>\n",
       "      <td>PhD</td>\n",
       "      <td>Divorced</td>\n",
       "      <td>Yes</td>\n",
       "    </tr>\n",
       "    <tr>\n",
       "      <th>9</th>\n",
       "      <td>2019-10-01 00:00:11 UTC</td>\n",
       "      <td>view</td>\n",
       "      <td>1004545.0</td>\n",
       "      <td>2.053010e+18</td>\n",
       "      <td>electronics.smartphone</td>\n",
       "      <td>huawei</td>\n",
       "      <td>566.01</td>\n",
       "      <td>537918940.0</td>\n",
       "      <td>406c46ed-90a4-4787-a43b-59a410c1a5fb</td>\n",
       "      <td>362972137.0</td>\n",
       "      <td>55.0</td>\n",
       "      <td>Female</td>\n",
       "      <td>98747.0</td>\n",
       "      <td>Master's Degree</td>\n",
       "      <td>Widowed</td>\n",
       "      <td>No</td>\n",
       "    </tr>\n",
       "    <tr>\n",
       "      <th>11</th>\n",
       "      <td>2019-10-01 00:00:11 UTC</td>\n",
       "      <td>view</td>\n",
       "      <td>1005011.0</td>\n",
       "      <td>2.053010e+18</td>\n",
       "      <td>electronics.smartphone</td>\n",
       "      <td>samsung</td>\n",
       "      <td>900.64</td>\n",
       "      <td>530282093.0</td>\n",
       "      <td>50a293fb-5940-41b2-baf3-17af0e812101</td>\n",
       "      <td>372118107.0</td>\n",
       "      <td>31.0</td>\n",
       "      <td>Male</td>\n",
       "      <td>87647.0</td>\n",
       "      <td>Bachelor's Degree</td>\n",
       "      <td>Divorced</td>\n",
       "      <td>No</td>\n",
       "    </tr>\n",
       "    <tr>\n",
       "      <th>18</th>\n",
       "      <td>2019-10-01 00:00:19 UTC</td>\n",
       "      <td>view</td>\n",
       "      <td>1306631.0</td>\n",
       "      <td>2.053010e+18</td>\n",
       "      <td>computers.notebook</td>\n",
       "      <td>hp</td>\n",
       "      <td>580.89</td>\n",
       "      <td>550050854.0</td>\n",
       "      <td>7c90fc70-0e80-4590-96f3-13c02c18c713</td>\n",
       "      <td>393502154.0</td>\n",
       "      <td>39.0</td>\n",
       "      <td>Female</td>\n",
       "      <td>72870.0</td>\n",
       "      <td>High School</td>\n",
       "      <td>Single</td>\n",
       "      <td>No</td>\n",
       "    </tr>\n",
       "  </tbody>\n",
       "</table>\n",
       "</div>"
      ],
      "text/plain": [
       "                 event_time event_type  product_id   category_id  \\\n",
       "3   2019-10-01 00:00:01 UTC       view   1307067.0  2.053010e+18   \n",
       "4   2019-10-01 00:00:04 UTC       view   1004237.0  2.053010e+18   \n",
       "9   2019-10-01 00:00:11 UTC       view   1004545.0  2.053010e+18   \n",
       "11  2019-10-01 00:00:11 UTC       view   1005011.0  2.053010e+18   \n",
       "18  2019-10-01 00:00:19 UTC       view   1306631.0  2.053010e+18   \n",
       "\n",
       "             category_code    brand    price      user_id  \\\n",
       "3       computers.notebook   lenovo   251.74  550050854.0   \n",
       "4   electronics.smartphone    apple  1081.98  535871217.0   \n",
       "9   electronics.smartphone   huawei   566.01  537918940.0   \n",
       "11  electronics.smartphone  samsung   900.64  530282093.0   \n",
       "18      computers.notebook       hp   580.89  550050854.0   \n",
       "\n",
       "                            user_session      user_id   Age  Gender   Income  \\\n",
       "3   7c90fc70-0e80-4590-96f3-13c02c18c713  332550649.0  38.0    Male  95710.0   \n",
       "4   c6bd7419-2748-4c56-95b4-8cec9ff8b80d  337535108.0  43.0  Female  39095.0   \n",
       "9   406c46ed-90a4-4787-a43b-59a410c1a5fb  362972137.0  55.0  Female  98747.0   \n",
       "11  50a293fb-5940-41b2-baf3-17af0e812101  372118107.0  31.0    Male  87647.0   \n",
       "18  7c90fc70-0e80-4590-96f3-13c02c18c713  393502154.0  39.0  Female  72870.0   \n",
       "\n",
       "            Education Marital Status Campaign Response  \n",
       "3         High School       Divorced                No  \n",
       "4                 PhD       Divorced               Yes  \n",
       "9     Master's Degree        Widowed                No  \n",
       "11  Bachelor's Degree       Divorced                No  \n",
       "18        High School         Single                No  "
      ]
     },
     "execution_count": 15,
     "metadata": {},
     "output_type": "execute_result"
    }
   ],
   "source": [
    "merged_df.head()\n",
    "#df.tail"
   ]
  },
  {
   "cell_type": "code",
   "execution_count": 16,
   "id": "0cadd7db",
   "metadata": {},
   "outputs": [],
   "source": [
    "new_df = pd.DataFrame({\n",
    "    'user_id': df['user_id'].unique(),\n",
    "    'Age': np.random.randint(18, 65, size=len(df['user_id'].unique())),\n",
    "    'Gender':np.random.choice(['Male', 'Female'], size=len(df['user_id'].unique())),\n",
    "    'Income': np.random.randint(20000, 100000, size=len(df['user_id'].unique())),\n",
    "    'Education': np.random.choice(['High School', 'Bachelor\\'s Degree', 'Master\\'s Degree', 'PhD'], size=len(df['user_id'].unique())),\n",
    "    'Marital Status': np.random.choice(['Married', 'Single', 'Divorced', 'Widowed'], size=len(df['user_id'].unique())),\n",
    "    'Campaign Response': np.random.choice(['Yes', 'No'], size=len(df['user_id'].unique()))\n",
    "})"
   ]
  },
  {
   "cell_type": "code",
   "execution_count": 17,
   "id": "6c37b325",
   "metadata": {},
   "outputs": [],
   "source": [
    "# Set age values based on user age ranges\n",
    "for i, row in new_df.iterrows():\n",
    "    if row['Age'] < 25:\n",
    "        new_df.at[i, 'Age'] = np.random.randint(16, 25)\n",
    "    elif 25 <= row['Age'] < 35:\n",
    "        new_df.at[i, 'Age'] = np.random.randint(25, 35)\n",
    "    elif 35 <= row['Age'] < 50:\n",
    "        new_df.at[i, 'Age'] = np.random.randint(35, 50)\n",
    "    else:\n",
    "        new_df.at[i, 'Age'] = np.random.randint(50, 70)\n"
   ]
  },
  {
   "cell_type": "code",
   "execution_count": 18,
   "id": "43892cc3",
   "metadata": {},
   "outputs": [],
   "source": [
    "# Set income values based on education level and marital status\n",
    "for i, row in new_df.iterrows():\n",
    "    if row['Education'] == 'High School':\n",
    "        if row['Marital Status'] == 'Single':\n",
    "            new_df.at[i, 'Income'] = np.random.randint(10000, 30000)\n",
    "        elif row['Marital Status'] == 'Married':\n",
    "            new_df.at[i, 'Income'] = np.random.randint(40000, 80000)\n",
    "        elif row['Marital Status'] == 'Divorced':\n",
    "            new_df.at[i, 'Income'] = np.random.randint(30000, 50000)\n",
    "        elif row['Marital Status'] == 'Widowed':\n",
    "            new_df.at[i, 'Income'] = np.random.randint(20000, 40000)\n",
    "    elif row['Education'] == r\"Bachelor\\s Degree\":\n",
    "        # Handle income modifications based on different marital statuses for 'Bachelor\\s Degree'\n",
    "        if row['Marital Status'] == 'Single':\n",
    "            new_df.at[i, 'Income'] = np.random.randint(25000, 35000)\n",
    "        elif row['Marital Status'] == 'Married':\n",
    "            new_df.at[i, 'Income'] = np.random.randint(40000, 80000)\n",
    "        elif row['Marital Status'] == 'Divorced':\n",
    "            new_df.at[i, 'Income'] = np.random.randint(80000, 90000)\n",
    "        elif row['Marital Status'] == 'Widowed':\n",
    "            new_df.at[i, 'Income'] = np.random.randint(80000, 90000)\n",
    "    elif row['Education'] == r\"Master\\s Degree\":\n",
    "        # Handle income modifications based on different marital statuses for 'Master\\s Degree'\n",
    "        if row['Marital Status'] == 'Single':\n",
    "            new_df.at[i, 'Income'] = np.random.randint(30000, 50000)\n",
    "        elif row['Marital Status'] == 'Married':\n",
    "            new_df.at[i, 'Income'] = np.random.randint(50000, 80000)\n",
    "        elif row['Marital Status'] == 'Divorced':\n",
    "            new_df.at[i, 'Income'] = np.random.randint(50000, 80000)\n",
    "        elif row['Marital Status'] == 'Widowed':\n",
    "            new_df.at[i, 'Income'] = np.random.randint(50000, 80000)\n",
    "    else:\n",
    "        # Handle income modifications based on different marital statuses for other education levels\n",
    "        if row['Marital Status'] == 'Single':\n",
    "            new_df.at[i, 'Income'] = np.random.randint(100000, 120000)\n",
    "        elif row['Marital Status'] == 'Married':\n",
    "            new_df.at[i, 'Income'] = np.random.randint(120000, 130000)\n",
    "        elif row['Marital Status'] == 'Divorced':\n",
    "            new_df.at[i, 'Income'] = np.random.randint(130000, 150000)\n",
    "        elif row['Marital Status'] == 'Widowed':\n",
    "            new_df.at[i, 'Income'] = np.random.randint(200000, 300000)\n",
    "\n",
    "for i, row in new_df.iterrows():\n",
    "    if row['Age'] < 25:\n",
    "        new_df.at[i, 'Education'] = np.random.choice(['High School','Bachelor\\'s Degree'])\n",
    "        new_df.at[i, 'Marital Status'] = 'Single'\n",
    "    elif 25 <= row['Age'] < 35:\n",
    "        if row['Income'] < 60000:\n",
    "            new_df.at[i, 'Education'] = np.random.choice(['High School','Bachelor\\'s Degree'])\n",
    "            new_df.at[i, 'Marital Status'] = 'Single'\n",
    "        else:\n",
    "            new_df.at[i, 'Education'] = np.random.choice(['Bachelor\\'s Degree','Master\\'s Degree'])\n",
    "            new_df.at[i, 'Marital Status'] = np.random.choice(['Married', 'Single'])\n",
    "    elif 35 <= row['Age'] < 50:\n",
    "        if row['Income'] < 80000:\n",
    "            new_df.at[i, 'Education'] = np.random.choice(['Bachelor\\'s Degree','Master\\'s Degree'])\n",
    "            new_df.at[i, 'Marital Status'] = np.random.choice(['Married','Single'])\n",
    "        else:\n",
    "            new_df.at[i, 'Education'] = np.random.choice(['Master\\'s Degree','PhD'])\n",
    "            new_df.at[i, 'Marital Status'] = np.random.choice(['Married', 'Divorced'])\n",
    "    else:\n",
    "        if row['Income'] < 300000:\n",
    "            new_df.at[i, 'Education'] = np.random.choice(['Master\\'s Degree', 'PhD'])\n",
    "            new_df.at[i, 'Marital Status'] = np.random.choice(['Married','Divorced'])\n",
    "        else:\n",
    "            new_df.at[i, 'Education'] = 'PhD'\n",
    "            new_df.at[i, 'Marital Status'] = np.random.choice(['Married', 'Widowed'])\n"
   ]
  },
  {
   "cell_type": "code",
   "execution_count": 19,
   "id": "37535b39",
   "metadata": {},
   "outputs": [
    {
     "name": "stdout",
     "output_type": "stream",
     "text": [
      "     user_id  Age  Gender  Income          Education Marital Status  \\\n",
      "0  550050854   36    Male  180151    Master's Degree       Divorced   \n",
      "1  535871217   47    Male  206659                PhD        Married   \n",
      "2  537918940   20  Female   86689  Bachelor's Degree         Single   \n",
      "3  530282093   48  Female  150037    Master's Degree        Married   \n",
      "4  555446831   23  Female   99220  Bachelor's Degree         Single   \n",
      "\n",
      "  Campaign Response  \n",
      "0                No  \n",
      "1                No  \n",
      "2                No  \n",
      "3                No  \n",
      "4                No  \n"
     ]
    }
   ],
   "source": [
    "import numpy as np\n",
    "\n",
    "# Set age values based on customer ranges\n",
    "for i, row in new_df.iterrows():\n",
    "    if row['Age'] < 25:\n",
    "        new_df.at[i, 'Age'] = np.random.randint(20, 25)\n",
    "    elif row['Age'] >= 25 and row['Age'] < 35:\n",
    "        new_df.at[i, 'Age'] = np.random.randint(25, 35)\n",
    "    elif row['Age'] >= 35 and row['Age'] < 50:\n",
    "        new_df.at[i, 'Age'] = np.random.randint(35, 50)\n",
    "    elif row['Age'] >= 50 and row['Age'] < 65:\n",
    "        new_df.at[i, 'Age'] = np.random.randint(50, 65)\n",
    "    else:\n",
    "        new_df.at[i, 'Age'] = np.random.randint(65, 80)\n",
    "\n",
    "# Set income values based on education values\n",
    "for i, row in new_df.iterrows():\n",
    "    if row['Education'] == 'High School':\n",
    "        if row['Marital Status'] == 'Single':\n",
    "            new_df.at[i, 'Income'] = np.random.randint(20000, 50000)\n",
    "        else:\n",
    "            new_df.at[i, 'Income'] = np.random.randint(50000, 80000)\n",
    "    elif row['Education'] == 'Diploma':\n",
    "        if row['Marital Status'] == 'Single':\n",
    "            new_df.at[i, 'Income'] = np.random.randint(20000, 60000)\n",
    "        else:\n",
    "            new_df.at[i, 'Income'] = np.random.randint(60000, 90000)\n",
    "    elif row['Education'] == 'Bachelors Degree':\n",
    "        if row['Marital Status'] == 'Single':\n",
    "            new_df.at[i, 'Income'] = np.random.randint(40000, 80000)\n",
    "        else:\n",
    "            new_df.at[i, 'Income'] = np.random.randint(80000, 120000)\n",
    "    elif row['Education'] == 'Masters Degree':\n",
    "        if row['Marital Status'] == 'Single':\n",
    "            new_df.at[i, 'Income'] = np.random.randint(60000, 100000)\n",
    "        else:\n",
    "            new_df.at[i, 'Income'] = np.random.randint(100000, 150000)\n",
    "    elif row['Education'] == 'PhD':\n",
    "        if row['Marital Status'] == 'Single':\n",
    "            new_df.at[i, 'Income'] = np.random.randint(150000, 180000)\n",
    "        else:\n",
    "            new_df.at[i, 'Income'] = np.random.randint(180000, 250000)\n",
    "    else:\n",
    "        if row['Marital Status'] == 'Single':\n",
    "            new_df.at[i, 'Income'] = np.random.randint(80000, 120000)\n",
    "        else:\n",
    "            new_df.at[i, 'Income'] = np.random.randint(120000, 200000)\n",
    "            \n",
    "# Display the modified DataFrame\n",
    "print(new_df.head())"
   ]
  },
  {
   "cell_type": "code",
   "execution_count": 20,
   "id": "fdaf2656",
   "metadata": {},
   "outputs": [
    {
     "name": "stdout",
     "output_type": "stream",
     "text": [
      "     user_id  Age  Gender  Income          Education Marital Status  \\\n",
      "0  550050854   36    Male  180151  Bachelor's Degree        Married   \n",
      "1  535871217   47    Male  206659  Bachelor's Degree        Married   \n",
      "2  537918940   20  Female   86689  Bachelor's Degree         Single   \n",
      "3  530282093   48  Female  150037        High School         Single   \n",
      "4  555446831   23  Female   99220  Bachelor's Degree         Single   \n",
      "\n",
      "  Campaign Response  \n",
      "0                No  \n",
      "1                No  \n",
      "2                No  \n",
      "3                No  \n",
      "4                No  \n"
     ]
    }
   ],
   "source": [
    "# Set education and marital status values based on age and income\n",
    "for i, row in new_df.iterrows():\n",
    "    if row['Age'] < 25:\n",
    "        new_df.at[i, 'Education'] = np.random.choice(['High School', 'Bachelor\\'s Degree'])\n",
    "        new_df.at[i, 'Marital Status'] = 'Single'\n",
    "    elif row['Age'] >= 25 and row['Age'] < 35:\n",
    "        if row['Income'] < 60000:\n",
    "            new_df.at[i, 'Education'] = np.random.choice(['High School', 'Bachelor\\'s Degree'])\n",
    "            new_df.at[i, 'Marital Status'] = 'Single'\n",
    "        else:\n",
    "            new_df.at[i, 'Education'] = np.random.choice(['High School', 'Bachelor\\'s Degree'])\n",
    "            new_df.at[i, 'Marital Status'] = 'Single'\n",
    "    elif row['Age'] >= 35 and row['Age'] < 50:\n",
    "        if row['Income'] < 80000:\n",
    "            new_df.at[i, 'Education'] = np.random.choice(['Bachelor\\'s Degree', 'Master\\'s Degree'])\n",
    "            new_df.at[i, 'Marital Status'] = 'Single'\n",
    "        else:\n",
    "            new_df.at[i, 'Education'] = np.random.choice(['High School', 'Bachelor\\'s Degree'])\n",
    "            new_df.at[i, 'Marital Status'] = np.random.choice(['Married', 'Single'])\n",
    "    elif row['Age'] >= 50 and row['Age'] < 65:\n",
    "        if row['Income'] < 100000:\n",
    "            new_df.at[i, 'Education'] = np.random.choice(['Master\\'s Degree', 'PhD'])\n",
    "            new_df.at[i, 'Marital Status'] = np.random.choice(['Married', 'Divorced'])\n",
    "        else:\n",
    "            new_df.at[i, 'Education'] = 'PhD'\n",
    "            new_df.at[i, 'Marital Status'] = np.random.choice(['Married', 'Widowed'])\n",
    "\n",
    "# Display the modified DataFrame\n",
    "print(new_df.head())\n"
   ]
  },
  {
   "cell_type": "code",
   "execution_count": 21,
   "id": "3afca25e",
   "metadata": {},
   "outputs": [
    {
     "data": {
      "text/html": [
       "<div>\n",
       "<style scoped>\n",
       "    .dataframe tbody tr th:only-of-type {\n",
       "        vertical-align: middle;\n",
       "    }\n",
       "\n",
       "    .dataframe tbody tr th {\n",
       "        vertical-align: top;\n",
       "    }\n",
       "\n",
       "    .dataframe thead th {\n",
       "        text-align: right;\n",
       "    }\n",
       "</style>\n",
       "<table border=\"1\" class=\"dataframe\">\n",
       "  <thead>\n",
       "    <tr style=\"text-align: right;\">\n",
       "      <th></th>\n",
       "      <th>event_time</th>\n",
       "      <th>event_type</th>\n",
       "      <th>product_id</th>\n",
       "      <th>category_id</th>\n",
       "      <th>category_code</th>\n",
       "      <th>brand</th>\n",
       "      <th>price</th>\n",
       "      <th>user_id</th>\n",
       "      <th>user_session</th>\n",
       "    </tr>\n",
       "  </thead>\n",
       "  <tbody>\n",
       "    <tr>\n",
       "      <th>3</th>\n",
       "      <td>2019-10-01 00:00:01 UTC</td>\n",
       "      <td>view</td>\n",
       "      <td>1307067</td>\n",
       "      <td>2.053010e+18</td>\n",
       "      <td>computers.notebook</td>\n",
       "      <td>lenovo</td>\n",
       "      <td>251.74</td>\n",
       "      <td>550050854</td>\n",
       "      <td>7c90fc70-0e80-4590-96f3-13c02c18c713</td>\n",
       "    </tr>\n",
       "    <tr>\n",
       "      <th>4</th>\n",
       "      <td>2019-10-01 00:00:04 UTC</td>\n",
       "      <td>view</td>\n",
       "      <td>1004237</td>\n",
       "      <td>2.053010e+18</td>\n",
       "      <td>electronics.smartphone</td>\n",
       "      <td>apple</td>\n",
       "      <td>1081.98</td>\n",
       "      <td>535871217</td>\n",
       "      <td>c6bd7419-2748-4c56-95b4-8cec9ff8b80d</td>\n",
       "    </tr>\n",
       "    <tr>\n",
       "      <th>9</th>\n",
       "      <td>2019-10-01 00:00:11 UTC</td>\n",
       "      <td>view</td>\n",
       "      <td>1004545</td>\n",
       "      <td>2.053010e+18</td>\n",
       "      <td>electronics.smartphone</td>\n",
       "      <td>huawei</td>\n",
       "      <td>566.01</td>\n",
       "      <td>537918940</td>\n",
       "      <td>406c46ed-90a4-4787-a43b-59a410c1a5fb</td>\n",
       "    </tr>\n",
       "    <tr>\n",
       "      <th>11</th>\n",
       "      <td>2019-10-01 00:00:11 UTC</td>\n",
       "      <td>view</td>\n",
       "      <td>1005011</td>\n",
       "      <td>2.053010e+18</td>\n",
       "      <td>electronics.smartphone</td>\n",
       "      <td>samsung</td>\n",
       "      <td>900.64</td>\n",
       "      <td>530282093</td>\n",
       "      <td>50a293fb-5940-41b2-baf3-17af0e812101</td>\n",
       "    </tr>\n",
       "    <tr>\n",
       "      <th>18</th>\n",
       "      <td>2019-10-01 00:00:19 UTC</td>\n",
       "      <td>view</td>\n",
       "      <td>1306631</td>\n",
       "      <td>2.053010e+18</td>\n",
       "      <td>computers.notebook</td>\n",
       "      <td>hp</td>\n",
       "      <td>580.89</td>\n",
       "      <td>550050854</td>\n",
       "      <td>7c90fc70-0e80-4590-96f3-13c02c18c713</td>\n",
       "    </tr>\n",
       "  </tbody>\n",
       "</table>\n",
       "</div>"
      ],
      "text/plain": [
       "                 event_time event_type  product_id   category_id  \\\n",
       "3   2019-10-01 00:00:01 UTC       view     1307067  2.053010e+18   \n",
       "4   2019-10-01 00:00:04 UTC       view     1004237  2.053010e+18   \n",
       "9   2019-10-01 00:00:11 UTC       view     1004545  2.053010e+18   \n",
       "11  2019-10-01 00:00:11 UTC       view     1005011  2.053010e+18   \n",
       "18  2019-10-01 00:00:19 UTC       view     1306631  2.053010e+18   \n",
       "\n",
       "             category_code    brand    price    user_id  \\\n",
       "3       computers.notebook   lenovo   251.74  550050854   \n",
       "4   electronics.smartphone    apple  1081.98  535871217   \n",
       "9   electronics.smartphone   huawei   566.01  537918940   \n",
       "11  electronics.smartphone  samsung   900.64  530282093   \n",
       "18      computers.notebook       hp   580.89  550050854   \n",
       "\n",
       "                            user_session  \n",
       "3   7c90fc70-0e80-4590-96f3-13c02c18c713  \n",
       "4   c6bd7419-2748-4c56-95b4-8cec9ff8b80d  \n",
       "9   406c46ed-90a4-4787-a43b-59a410c1a5fb  \n",
       "11  50a293fb-5940-41b2-baf3-17af0e812101  \n",
       "18  7c90fc70-0e80-4590-96f3-13c02c18c713  "
      ]
     },
     "execution_count": 21,
     "metadata": {},
     "output_type": "execute_result"
    }
   ],
   "source": [
    "df.head()"
   ]
  },
  {
   "cell_type": "code",
   "execution_count": 22,
   "id": "1334a856",
   "metadata": {},
   "outputs": [],
   "source": [
    "me_df = pd.merge(df, new_df, on='user_id')"
   ]
  },
  {
   "cell_type": "code",
   "execution_count": 23,
   "id": "51457899",
   "metadata": {},
   "outputs": [],
   "source": [
    "me_df.to_csv('demo.csv', index=False)"
   ]
  },
  {
   "cell_type": "code",
   "execution_count": 25,
   "id": "ffdbc731",
   "metadata": {},
   "outputs": [
    {
     "ename": "NameError",
     "evalue": "name 'sa_data' is not defined",
     "output_type": "error",
     "traceback": [
      "\u001b[1;31m---------------------------------------------------------------------------\u001b[0m",
      "\u001b[1;31mNameError\u001b[0m                                 Traceback (most recent call last)",
      "\u001b[1;32m~\\AppData\\Local\\Temp\\ipykernel_18696\\1423761752.py\u001b[0m in \u001b[0;36m<module>\u001b[1;34m\u001b[0m\n\u001b[0;32m      6\u001b[0m          ).reset_index()\n\u001b[0;32m      7\u001b[0m \u001b[1;33m\u001b[0m\u001b[0m\n\u001b[1;32m----> 8\u001b[1;33m \u001b[0my_sa\u001b[0m \u001b[1;33m=\u001b[0m \u001b[0msa_data\u001b[0m\u001b[1;33m[\u001b[0m\u001b[0msa_data\u001b[0m\u001b[1;33m[\u001b[0m\u001b[1;34m'Class'\u001b[0m\u001b[1;33m]\u001b[0m \u001b[1;33m==\u001b[0m \u001b[1;34m'yes'\u001b[0m\u001b[1;33m]\u001b[0m\u001b[1;33m\u001b[0m\u001b[1;33m\u001b[0m\u001b[0m\n\u001b[0m\u001b[0;32m      9\u001b[0m \u001b[1;33m\u001b[0m\u001b[0m\n\u001b[0;32m     10\u001b[0m \u001b[0my_mean\u001b[0m \u001b[1;33m=\u001b[0m \u001b[0my_sa\u001b[0m\u001b[1;33m.\u001b[0m\u001b[0mmerge\u001b[0m\u001b[1;33m(\u001b[0m\u001b[0mpa_data\u001b[0m\u001b[1;33m,\u001b[0m \u001b[0mon\u001b[0m\u001b[1;33m=\u001b[0m\u001b[1;34m'user_session'\u001b[0m\u001b[1;33m)\u001b[0m\u001b[1;33m[\u001b[0m\u001b[1;34m'Purchase_Amount'\u001b[0m\u001b[1;33m]\u001b[0m\u001b[1;33m.\u001b[0m\u001b[0mmean\u001b[0m\u001b[1;33m(\u001b[0m\u001b[1;33m)\u001b[0m\u001b[1;33m\u001b[0m\u001b[1;33m\u001b[0m\u001b[0m\n",
      "\u001b[1;31mNameError\u001b[0m: name 'sa_data' is not defined"
     ]
    }
   ],
   "source": [
    "pa_data = me_df.groupby('user_session').agg(\n",
    "            event_time=('event_time', 'max'),\n",
    "            user_id=('user_id', 'first'),                \n",
    "            Quantity=('user_session', 'count'),\n",
    "            Purchase_Amount=('price', 'sum')\n",
    "         ).reset_index()\n",
    "\n",
    "\n",
    "y_mean = y_sa.merge(pa_data, on='user_session')['Purchase_Amount'].mean()\n",
    "n_mean = n_sa.merge(pa_data, on='user_session')['Purchase_Amount'].mean()\n",
    "print('The mean of the yes sample is', y_mean, 'and the mean of the no is', n_mean)\n"
   ]
  },
  {
   "cell_type": "code",
   "execution_count": 76,
   "id": "1990a3ba",
   "metadata": {},
   "outputs": [
    {
     "name": "stdout",
     "output_type": "stream",
     "text": [
      "The mean of the yes sample is 3718.5220231213857 and the mean of the no is 3621.1846249999994\n",
      "The variance of the yes sample is 42868314.5763732 and the variance of the no is 31316000.670699228\n"
     ]
    }
   ],
   "source": [
    "pa_data = me_df.groupby('user_session').agg(\n",
    "    event_time=('event_time', 'max'),\n",
    "    user_id=('user_id', 'first'),\n",
    "    Quantity=('user_session', 'count'),\n",
    "    Purchase_Amount=('price', 'sum')\n",
    ").reset_index()\n",
    "\n",
    "y_mean = y_sa.merge(pa_data, on='user_session')['Purchase_Amount'].mean()\n",
    "n_mean = n_sa.merge(pa_data, on='user_session')['Purchase_Amount'].mean()\n",
    "y_var = y_sa.merge(pa_data, on='user_session')['Purchase_Amount'].var()\n",
    "n_var = n_sa.merge(pa_data, on='user_session')['Purchase_Amount'].var()\n",
    "\n",
    "print('The mean of the yes sample is', y_mean, 'and the mean of the no is', n_mean)\n",
    "print('The variance of the yes sample is', y_var, 'and the variance of the no is', n_var)\n"
   ]
  },
  {
   "cell_type": "code",
   "execution_count": 62,
   "id": "c77572b2",
   "metadata": {},
   "outputs": [
    {
     "name": "stdout",
     "output_type": "stream",
     "text": [
      "Required Sample Size: 333\n"
     ]
    }
   ],
   "source": [
    "import statsmodels.stats.api as sms\n",
    "\n",
    "# Define parameters\n",
    "alpha = 0.01  # desired confidence level\n",
    "power = 0.5  # desired statistical power\n",
    "effect_size = 0.2  # expected effect size\n",
    "std_dev =  218.60  # estimated standard deviation\n",
    "\n",
    "# Calculate sample size\n",
    "sample_size = sms.tt_ind_solve_power(effect_size=effect_size, nobs1=None, alpha=alpha, power=power, ratio=1.0, alternative='two-sided')\n",
    "\n",
    "# Round up to the nearest integer\n",
    "sample_size = int(round(sample_size))\n",
    "\n",
    "print(\"Required Sample Size:\", sample_size)"
   ]
  },
  {
   "cell_type": "code",
   "execution_count": 63,
   "id": "2daf42f4",
   "metadata": {},
   "outputs": [],
   "source": [
    "sample_df = me_df.sample(n=sample_size, random_state=42)"
   ]
  },
  {
   "cell_type": "code",
   "execution_count": 64,
   "id": "f14a9964",
   "metadata": {},
   "outputs": [],
   "source": [
    "resp_groups=sample_df.groupby('Campaign Response')"
   ]
  },
  {
   "cell_type": "code",
   "execution_count": 65,
   "id": "a646dbce",
   "metadata": {},
   "outputs": [
    {
     "data": {
      "text/plain": [
       "Yes    173\n",
       "No     160\n",
       "Name: Campaign Response, dtype: int64"
      ]
     },
     "execution_count": 65,
     "metadata": {},
     "output_type": "execute_result"
    }
   ],
   "source": [
    "sample_df['Campaign Response'].value_counts()"
   ]
  },
  {
   "cell_type": "code",
   "execution_count": 66,
   "id": "8c13c5a5",
   "metadata": {},
   "outputs": [],
   "source": [
    "y_sa=resp_groups.get_group('Yes')\n",
    "n_sa=resp_groups.get_group('No')"
   ]
  },
  {
   "cell_type": "code",
   "execution_count": 78,
   "id": "be40caa7",
   "metadata": {},
   "outputs": [
    {
     "name": "stdout",
     "output_type": "stream",
     "text": [
      "Pooled variance is 37319015.751593255\n"
     ]
    }
   ],
   "source": [
    "pool=((len(y_sa.index)-1)*y_var+(len(n_sa.index)-1)*n_var)/(len(y_sa.index)+len(n_sa.index)-2)\n",
    "print('Pooled variance is',pool)"
   ]
  },
  {
   "cell_type": "code",
   "execution_count": 79,
   "id": "46d41863",
   "metadata": {},
   "outputs": [
    {
     "name": "stdout",
     "output_type": "stream",
     "text": [
      "standard error is 670.0452988439738\n"
     ]
    }
   ],
   "source": [
    "st_error=((pool/len(y_sa.index))+(pool/len(n_sa.index)))**(1/2)\n",
    "print('standard error is',st_error)"
   ]
  },
  {
   "cell_type": "code",
   "execution_count": 80,
   "id": "dcfdc5c2",
   "metadata": {},
   "outputs": [
    {
     "name": "stdout",
     "output_type": "stream",
     "text": [
      "0.1452698769610384\n"
     ]
    }
   ],
   "source": [
    "T=(y_mean-n_mean)/st_error\n",
    "print(T)"
   ]
  },
  {
   "cell_type": "code",
   "execution_count": 90,
   "id": "4d7e9587",
   "metadata": {
    "scrolled": true
   },
   "outputs": [
    {
     "name": "stdout",
     "output_type": "stream",
     "text": [
      "Requirement already satisfied: statsmodels in c:\\users\\bida21-052\\anaconda3\\lib\\site-packages (0.13.2)Note: you may need to restart the kernel to use updated packages.\n",
      "\n",
      "Requirement already satisfied: numpy>=1.17 in c:\\users\\bida21-052\\anaconda3\\lib\\site-packages (from statsmodels) (1.21.5)\n",
      "Requirement already satisfied: scipy>=1.3 in c:\\users\\bida21-052\\anaconda3\\lib\\site-packages (from statsmodels) (1.9.1)\n",
      "Requirement already satisfied: pandas>=0.25 in c:\\users\\bida21-052\\anaconda3\\lib\\site-packages (from statsmodels) (1.4.4)\n",
      "Requirement already satisfied: patsy>=0.5.2 in c:\\users\\bida21-052\\anaconda3\\lib\\site-packages (from statsmodels) (0.5.2)\n",
      "Requirement already satisfied: packaging>=21.3 in c:\\users\\bida21-052\\anaconda3\\lib\\site-packages (from statsmodels) (21.3)\n",
      "Requirement already satisfied: pyparsing!=3.0.5,>=2.0.2 in c:\\users\\bida21-052\\anaconda3\\lib\\site-packages (from packaging>=21.3->statsmodels) (3.0.9)\n",
      "Requirement already satisfied: python-dateutil>=2.8.1 in c:\\users\\bida21-052\\anaconda3\\lib\\site-packages (from pandas>=0.25->statsmodels) (2.8.2)\n",
      "Requirement already satisfied: pytz>=2020.1 in c:\\users\\bida21-052\\anaconda3\\lib\\site-packages (from pandas>=0.25->statsmodels) (2022.1)\n",
      "Requirement already satisfied: six in c:\\users\\bida21-052\\anaconda3\\lib\\site-packages (from patsy>=0.5.2->statsmodels) (1.16.0)\n"
     ]
    }
   ],
   "source": [
    "pip install statsmodels"
   ]
  },
  {
   "cell_type": "code",
   "execution_count": 81,
   "id": "7cda9ed4",
   "metadata": {},
   "outputs": [],
   "source": [
    "import random\n",
    "from sklearn import datasets, linear_model\n",
    "from sklearn.model_selection import train_test_split"
   ]
  },
  {
   "cell_type": "code",
   "execution_count": 82,
   "id": "42a139d9",
   "metadata": {
    "scrolled": true
   },
   "outputs": [
    {
     "name": "stdout",
     "output_type": "stream",
     "text": [
      "(349230, 15)\n",
      "(116411, 15)\n"
     ]
    }
   ],
   "source": [
    "random.seed(3378)\n",
    "training, testing = train_test_split(me_df, test_size = 0.25)\n",
    "print(training.shape)\n",
    "print(testing.shape)"
   ]
  },
  {
   "cell_type": "code",
   "execution_count": 89,
   "id": "1bacb42f",
   "metadata": {},
   "outputs": [
    {
     "name": "stdout",
     "output_type": "stream",
     "text": [
      "Index(['event_time', 'event_type', 'product_id', 'category_id',\n",
      "       'category_code', 'brand', 'price', 'user_id', 'user_session', 'Age',\n",
      "       'Gender', 'Income', 'Education', 'Marital Status', 'Campaign Response'],\n",
      "      dtype='object')\n"
     ]
    }
   ],
   "source": [
    "print(training.columns)\n"
   ]
  },
  {
   "cell_type": "code",
   "execution_count": 93,
   "id": "e1836edb",
   "metadata": {
    "scrolled": true
   },
   "outputs": [
    {
     "data": {
      "text/html": [
       "<div>\n",
       "<style scoped>\n",
       "    .dataframe tbody tr th:only-of-type {\n",
       "        vertical-align: middle;\n",
       "    }\n",
       "\n",
       "    .dataframe tbody tr th {\n",
       "        vertical-align: top;\n",
       "    }\n",
       "\n",
       "    .dataframe thead th {\n",
       "        text-align: right;\n",
       "    }\n",
       "</style>\n",
       "<table border=\"1\" class=\"dataframe\">\n",
       "  <thead>\n",
       "    <tr style=\"text-align: right;\">\n",
       "      <th></th>\n",
       "      <th>event_type</th>\n",
       "      <th>product_id</th>\n",
       "      <th>category_id</th>\n",
       "      <th>category_code</th>\n",
       "      <th>brand</th>\n",
       "      <th>price</th>\n",
       "      <th>user_id</th>\n",
       "      <th>user_session</th>\n",
       "      <th>Age</th>\n",
       "      <th>Gender</th>\n",
       "      <th>Income</th>\n",
       "      <th>Education</th>\n",
       "      <th>Marital Status</th>\n",
       "      <th>Campaign Response</th>\n",
       "    </tr>\n",
       "    <tr>\n",
       "      <th>event_time</th>\n",
       "      <th></th>\n",
       "      <th></th>\n",
       "      <th></th>\n",
       "      <th></th>\n",
       "      <th></th>\n",
       "      <th></th>\n",
       "      <th></th>\n",
       "      <th></th>\n",
       "      <th></th>\n",
       "      <th></th>\n",
       "      <th></th>\n",
       "      <th></th>\n",
       "      <th></th>\n",
       "      <th></th>\n",
       "    </tr>\n",
       "  </thead>\n",
       "  <tbody>\n",
       "    <tr>\n",
       "      <th>2019-10-01 00:00:01 UTC</th>\n",
       "      <td>view</td>\n",
       "      <td>1307067</td>\n",
       "      <td>2.053010e+18</td>\n",
       "      <td>computers.notebook</td>\n",
       "      <td>lenovo</td>\n",
       "      <td>251.74</td>\n",
       "      <td>550050854</td>\n",
       "      <td>7c90fc70-0e80-4590-96f3-13c02c18c713</td>\n",
       "      <td>27</td>\n",
       "      <td>Female</td>\n",
       "      <td>120559</td>\n",
       "      <td>High School</td>\n",
       "      <td>Single</td>\n",
       "      <td>Yes</td>\n",
       "    </tr>\n",
       "    <tr>\n",
       "      <th>2019-10-01 00:00:19 UTC</th>\n",
       "      <td>view</td>\n",
       "      <td>1306631</td>\n",
       "      <td>2.053010e+18</td>\n",
       "      <td>computers.notebook</td>\n",
       "      <td>hp</td>\n",
       "      <td>580.89</td>\n",
       "      <td>550050854</td>\n",
       "      <td>7c90fc70-0e80-4590-96f3-13c02c18c713</td>\n",
       "      <td>27</td>\n",
       "      <td>Female</td>\n",
       "      <td>120559</td>\n",
       "      <td>High School</td>\n",
       "      <td>Single</td>\n",
       "      <td>Yes</td>\n",
       "    </tr>\n",
       "    <tr>\n",
       "      <th>2019-10-01 00:01:05 UTC</th>\n",
       "      <td>view</td>\n",
       "      <td>1306083</td>\n",
       "      <td>2.053010e+18</td>\n",
       "      <td>computers.notebook</td>\n",
       "      <td>hp</td>\n",
       "      <td>1512.78</td>\n",
       "      <td>550050854</td>\n",
       "      <td>7c90fc70-0e80-4590-96f3-13c02c18c713</td>\n",
       "      <td>27</td>\n",
       "      <td>Female</td>\n",
       "      <td>120559</td>\n",
       "      <td>High School</td>\n",
       "      <td>Single</td>\n",
       "      <td>Yes</td>\n",
       "    </tr>\n",
       "    <tr>\n",
       "      <th>2019-10-01 00:01:42 UTC</th>\n",
       "      <td>view</td>\n",
       "      <td>1306631</td>\n",
       "      <td>2.053010e+18</td>\n",
       "      <td>computers.notebook</td>\n",
       "      <td>hp</td>\n",
       "      <td>580.89</td>\n",
       "      <td>550050854</td>\n",
       "      <td>7c90fc70-0e80-4590-96f3-13c02c18c713</td>\n",
       "      <td>27</td>\n",
       "      <td>Female</td>\n",
       "      <td>120559</td>\n",
       "      <td>High School</td>\n",
       "      <td>Single</td>\n",
       "      <td>Yes</td>\n",
       "    </tr>\n",
       "    <tr>\n",
       "      <th>2019-10-01 00:02:16 UTC</th>\n",
       "      <td>view</td>\n",
       "      <td>1307067</td>\n",
       "      <td>2.053010e+18</td>\n",
       "      <td>computers.notebook</td>\n",
       "      <td>lenovo</td>\n",
       "      <td>251.74</td>\n",
       "      <td>550050854</td>\n",
       "      <td>7c90fc70-0e80-4590-96f3-13c02c18c713</td>\n",
       "      <td>27</td>\n",
       "      <td>Female</td>\n",
       "      <td>120559</td>\n",
       "      <td>High School</td>\n",
       "      <td>Single</td>\n",
       "      <td>Yes</td>\n",
       "    </tr>\n",
       "  </tbody>\n",
       "</table>\n",
       "</div>"
      ],
      "text/plain": [
       "                        event_type  product_id   category_id  \\\n",
       "event_time                                                     \n",
       "2019-10-01 00:00:01 UTC       view     1307067  2.053010e+18   \n",
       "2019-10-01 00:00:19 UTC       view     1306631  2.053010e+18   \n",
       "2019-10-01 00:01:05 UTC       view     1306083  2.053010e+18   \n",
       "2019-10-01 00:01:42 UTC       view     1306631  2.053010e+18   \n",
       "2019-10-01 00:02:16 UTC       view     1307067  2.053010e+18   \n",
       "\n",
       "                              category_code   brand    price    user_id  \\\n",
       "event_time                                                                \n",
       "2019-10-01 00:00:01 UTC  computers.notebook  lenovo   251.74  550050854   \n",
       "2019-10-01 00:00:19 UTC  computers.notebook      hp   580.89  550050854   \n",
       "2019-10-01 00:01:05 UTC  computers.notebook      hp  1512.78  550050854   \n",
       "2019-10-01 00:01:42 UTC  computers.notebook      hp   580.89  550050854   \n",
       "2019-10-01 00:02:16 UTC  computers.notebook  lenovo   251.74  550050854   \n",
       "\n",
       "                                                 user_session  Age  Gender  \\\n",
       "event_time                                                                   \n",
       "2019-10-01 00:00:01 UTC  7c90fc70-0e80-4590-96f3-13c02c18c713   27  Female   \n",
       "2019-10-01 00:00:19 UTC  7c90fc70-0e80-4590-96f3-13c02c18c713   27  Female   \n",
       "2019-10-01 00:01:05 UTC  7c90fc70-0e80-4590-96f3-13c02c18c713   27  Female   \n",
       "2019-10-01 00:01:42 UTC  7c90fc70-0e80-4590-96f3-13c02c18c713   27  Female   \n",
       "2019-10-01 00:02:16 UTC  7c90fc70-0e80-4590-96f3-13c02c18c713   27  Female   \n",
       "\n",
       "                         Income    Education Marital Status Campaign Response  \n",
       "event_time                                                                     \n",
       "2019-10-01 00:00:01 UTC  120559  High School         Single               Yes  \n",
       "2019-10-01 00:00:19 UTC  120559  High School         Single               Yes  \n",
       "2019-10-01 00:01:05 UTC  120559  High School         Single               Yes  \n",
       "2019-10-01 00:01:42 UTC  120559  High School         Single               Yes  \n",
       "2019-10-01 00:02:16 UTC  120559  High School         Single               Yes  "
      ]
     },
     "execution_count": 93,
     "metadata": {},
     "output_type": "execute_result"
    }
   ],
   "source": [
    "me_df.set_index('event_time', inplace=True)\n",
    "me_df.head()"
   ]
  },
  {
   "cell_type": "code",
   "execution_count": 95,
   "id": "be43df04",
   "metadata": {},
   "outputs": [],
   "source": [
    "import pandas as pd\n",
    "import numpy as np\n",
    "import matplotlib.pyplot as plt\n",
    "from sklearn.linear_model import LinearRegression\n"
   ]
  },
  {
   "cell_type": "code",
   "execution_count": 96,
   "id": "f24ec262",
   "metadata": {
    "scrolled": true
   },
   "outputs": [
    {
     "name": "stdout",
     "output_type": "stream",
     "text": [
      "Coefficients: [398.88244284]\n",
      "Intercept: 39.91214435681877\n"
     ]
    },
    {
     "data": {
      "image/png": "[encoded data removed]",
      "text/plain": [
       "<Figure size 640x480 with 1 Axes>"
      ]
     },
     "metadata": {},
     "output_type": "display_data"
    }
   ],
   "source": [
    "# Prepare the data\n",
    "X = pa_data['Quantity'].values.reshape(-1, 1)\n",
    "y = pa_data['Purchase_Amount'].values\n",
    "\n",
    "# Create and fit the linear regression model\n",
    "model = LinearRegression()\n",
    "model.fit(X, y)\n",
    "\n",
    "# Print the coefficients and intercept\n",
    "print(\"Coefficients:\", model.coef_)\n",
    "print(\"Intercept:\", model.intercept_)\n",
    "\n",
    "# Make predictions\n",
    "y_pred = model.predict(X)\n",
    "\n",
    "# Visualize the results\n",
    "import matplotlib.pyplot as plt\n",
    "plt.scatter(X, y, color='blue', label='Actual')\n",
    "plt.plot(X, y_pred, color='red', label='Predicted')\n",
    "plt.xlabel('Quantity')\n",
    "plt.ylabel('Purchase Amount')\n",
    "plt.legend()\n",
    "plt.show()\n"
   ]
  },
  {
   "cell_type": "code",
   "execution_count": 101,
   "id": "1153961a",
   "metadata": {},
   "outputs": [
    {
     "name": "stdout",
     "output_type": "stream",
     "text": [
      "Linear Regression Equation:\n",
      "Purchase_Amount = 39.91 + 398.88 * Quantity\n"
     ]
    }
   ],
   "source": [
    "# Get the coefficient and intercept\n",
    "coefficient1 = model.coef_[0]\n",
    "intercept = model.intercept_\n",
    "\n",
    "# Construct the equation\n",
    "equation = f\"Purchase_Amount = {intercept:.2f} + {coefficient1:.2f} * Quantity\"\n",
    "\n",
    "# Print the equation\n",
    "print(\"Linear Regression Equation:\")\n",
    "print(equation)\n"
   ]
  },
  {
   "cell_type": "code",
   "execution_count": 102,
   "id": "6d3e7155",
   "metadata": {},
   "outputs": [
    {
     "name": "stdout",
     "output_type": "stream",
     "text": [
      "Predicted Purchase_Amount for Quantity 25 : 10011.973215346938\n",
      "Predicted Purchase_Amount for Quantity 40 : 15995.209857941009\n"
     ]
    }
   ],
   "source": [
    "# Example values for Quantity\n",
    "quantity1 = 25\n",
    "quantity2 = 40\n",
    "\n",
    "# Calculate predicted Purchase_Amount using the equation\n",
    "predicted_amount1 = intercept + coefficient1 * quantity1\n",
    "predicted_amount2 = intercept + coefficient1 * quantity2\n",
    "\n",
    "# Print the predicted Purchase_Amount\n",
    "print(\"Predicted Purchase_Amount for Quantity\", quantity1, \":\", predicted_amount1)\n",
    "print(\"Predicted Purchase_Amount for Quantity\", quantity2, \":\", predicted_amount2)\n"
   ]
  },
  {
   "cell_type": "code",
   "execution_count": 2,
   "id": "8ef30043",
   "metadata": {},
   "outputs": [
    {
     "ename": "NameError",
     "evalue": "name 'me_df' is not defined",
     "output_type": "error",
     "traceback": [
      "\u001b[1;31m---------------------------------------------------------------------------\u001b[0m",
      "\u001b[1;31mNameError\u001b[0m                                 Traceback (most recent call last)",
      "\u001b[1;32m~\\AppData\\Local\\Temp\\ipykernel_18696\\12549878.py\u001b[0m in \u001b[0;36m<module>\u001b[1;34m\u001b[0m\n\u001b[1;32m----> 1\u001b[1;33m \u001b[0mpa_data\u001b[0m\u001b[1;33m[\u001b[0m\u001b[1;34m'Age'\u001b[0m\u001b[1;33m]\u001b[0m \u001b[1;33m=\u001b[0m \u001b[0mme_df\u001b[0m\u001b[1;33m.\u001b[0m\u001b[0mgroupby\u001b[0m\u001b[1;33m(\u001b[0m\u001b[1;34m'user_session'\u001b[0m\u001b[1;33m)\u001b[0m\u001b[1;33m[\u001b[0m\u001b[1;34m'Age'\u001b[0m\u001b[1;33m]\u001b[0m\u001b[1;33m.\u001b[0m\u001b[0mfirst\u001b[0m\u001b[1;33m(\u001b[0m\u001b[1;33m)\u001b[0m\u001b[1;33m\u001b[0m\u001b[1;33m\u001b[0m\u001b[0m\n\u001b[0m\u001b[0;32m      2\u001b[0m \u001b[0mpa_data\u001b[0m\u001b[1;33m[\u001b[0m\u001b[1;34m'Income'\u001b[0m\u001b[1;33m]\u001b[0m \u001b[1;33m=\u001b[0m \u001b[0mme_df\u001b[0m\u001b[1;33m.\u001b[0m\u001b[0mgroupby\u001b[0m\u001b[1;33m(\u001b[0m\u001b[1;34m'user_session'\u001b[0m\u001b[1;33m)\u001b[0m\u001b[1;33m[\u001b[0m\u001b[1;34m'Income'\u001b[0m\u001b[1;33m]\u001b[0m\u001b[1;33m.\u001b[0m\u001b[0mfirst\u001b[0m\u001b[1;33m(\u001b[0m\u001b[1;33m)\u001b[0m\u001b[1;33m\u001b[0m\u001b[1;33m\u001b[0m\u001b[0m\n",
      "\u001b[1;31mNameError\u001b[0m: name 'me_df' is not defined"
     ]
    }
   ],
   "source": [
    "pa_data['Age'] = me_df.groupby('user_session')['Age'].first()\n",
    "pa_data['Income'] = me_df.groupby('user_session')['Income'].first()\n"
   ]
  },
  {
   "cell_type": "code",
   "execution_count": 1,
   "id": "bd71d5d8",
   "metadata": {},
   "outputs": [
    {
     "ename": "NameError",
     "evalue": "name 'pa_data' is not defined",
     "output_type": "error",
     "traceback": [
      "\u001b[1;31m---------------------------------------------------------------------------\u001b[0m",
      "\u001b[1;31mNameError\u001b[0m                                 Traceback (most recent call last)",
      "\u001b[1;32m~\\AppData\\Local\\Temp\\ipykernel_18696\\2424711126.py\u001b[0m in \u001b[0;36m<module>\u001b[1;34m\u001b[0m\n\u001b[0;32m      5\u001b[0m \u001b[1;33m\u001b[0m\u001b[0m\n\u001b[0;32m      6\u001b[0m \u001b[1;31m# Prepare the data\u001b[0m\u001b[1;33m\u001b[0m\u001b[1;33m\u001b[0m\u001b[0m\n\u001b[1;32m----> 7\u001b[1;33m \u001b[0mX\u001b[0m \u001b[1;33m=\u001b[0m \u001b[0mpa_data\u001b[0m\u001b[1;33m[\u001b[0m\u001b[1;33m[\u001b[0m\u001b[1;34m'Quantity'\u001b[0m\u001b[1;33m,\u001b[0m \u001b[1;34m'Age'\u001b[0m\u001b[1;33m,\u001b[0m \u001b[1;34m'Income'\u001b[0m\u001b[1;33m]\u001b[0m\u001b[1;33m]\u001b[0m\u001b[1;33m.\u001b[0m\u001b[0mvalues\u001b[0m\u001b[1;33m\u001b[0m\u001b[1;33m\u001b[0m\u001b[0m\n\u001b[0m\u001b[0;32m      8\u001b[0m \u001b[0my\u001b[0m \u001b[1;33m=\u001b[0m \u001b[0mpa_data\u001b[0m\u001b[1;33m[\u001b[0m\u001b[1;34m'Purchase_Amount'\u001b[0m\u001b[1;33m]\u001b[0m\u001b[1;33m.\u001b[0m\u001b[0mvalues\u001b[0m\u001b[1;33m\u001b[0m\u001b[1;33m\u001b[0m\u001b[0m\n\u001b[0;32m      9\u001b[0m \u001b[1;33m\u001b[0m\u001b[0m\n",
      "\u001b[1;31mNameError\u001b[0m: name 'pa_data' is not defined"
     ]
    }
   ],
   "source": [
    "import numpy as np\n",
    "import pandas as pd\n",
    "from sklearn.linear_model import LinearRegression\n",
    "import matplotlib.pyplot as plt\n",
    "\n",
    "# Prepare the data\n",
    "X = pa_data[['Quantity', 'Age', 'Income']].values\n",
    "y = pa_data['Purchase_Amount'].values\n",
    "\n",
    "# Check for missing values\n",
    "print(\"Missing values in X:\", np.isnan(X).sum())\n",
    "print(\"Missing values in y:\", np.isnan(y).sum())\n",
    "\n",
    "# Handle missing values\n",
    "valid_mask = ~np.isnan(X).any(axis=1)\n",
    "X = X[valid_mask]\n",
    "y = y[valid_mask]\n",
    "\n",
    "# Check if any samples remain\n",
    "if X.shape[0] == 0:\n",
    "    print(\"No samples remaining after handling missing values. Please check your data.\")\n",
    "    exit()\n",
    "\n",
    "# Create and fit the linear regression model\n",
    "model = LinearRegression()\n",
    "model.fit(X, y)\n",
    "\n",
    "# Print the coefficients and intercept\n",
    "print(\"Coefficients:\", model.coef_)\n",
    "print(\"Intercept:\", model.intercept_)\n",
    "\n",
    "# Make predictions\n",
    "y_pred = model.predict(X)\n",
    "\n",
    "# Visualize the results\n",
    "plt.scatter(X[:, 0], y, color='blue', label='Actual')\n",
    "plt.plot(X[:, 0], y_pred, color='red', label='Predicted')\n",
    "plt.xlabel('Quantity')\n",
    "plt.ylabel('Purchase Amount')\n",
    "plt.legend()\n",
    "plt.show()\n"
   ]
  },
  {
   "cell_type": "code",
   "execution_count": null,
   "id": "2241ad99",
   "metadata": {},
   "outputs": [],
   "source": []
  }
 ],
 "metadata": {
  "kernelspec": {
   "display_name": "Python 3 (ipykernel)",
   "language": "python",
   "name": "python3"
  },
  "language_info": {
   "codemirror_mode": {
    "name": "ipython",
    "version": 3
   },
   "file_extension": ".py",
   "mimetype": "text/x-python",
   "name": "python",
   "nbconvert_exporter": "python",
   "pygments_lexer": "ipython3",
   "version": "3.9.13"
  }
 },
 "nbformat": 4,
 "nbformat_minor": 5
}
