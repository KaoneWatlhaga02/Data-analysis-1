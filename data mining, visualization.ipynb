{
 "cells": [
  {
   "cell_type": "code",
   "execution_count": 17,
   "id": "4645e1da",
   "metadata": {},
   "outputs": [
    {
     "name": "stdout",
     "output_type": "stream",
     "text": [
      "                event_time event_type  product_id   category_id  \\\n",
      "0  2019-10-01 00:00:00 UTC       view    44600062  2.103810e+18   \n",
      "1  2019-10-01 00:00:00 UTC       view     3900821  2.053010e+18   \n",
      "2  2019-10-01 00:00:01 UTC       view    17200506  2.053010e+18   \n",
      "3  2019-10-01 00:00:01 UTC       view     1307067  2.053010e+18   \n",
      "4  2019-10-01 00:00:04 UTC       view     1004237  2.053010e+18   \n",
      "\n",
      "                         category_code     brand    price    user_id  \\\n",
      "0                                  NaN  shiseido    35.79  541312140   \n",
      "1  appliances.environment.water_heater      aqua    33.20  554748717   \n",
      "2           furniture.living_room.sofa       NaN   543.10  519107250   \n",
      "3                   computers.notebook    lenovo   251.74  550050854   \n",
      "4               electronics.smartphone     apple  1081.98  535871217   \n",
      "\n",
      "                           user_session  \n",
      "0  72d76fde-8bb3-4e00-8c23-a032dfed738c  \n",
      "1  9333dfbd-b87a-4708-9857-6336556b0fcc  \n",
      "2  566511c2-e2e3-422b-b695-cf8e6e792ca8  \n",
      "3  7c90fc70-0e80-4590-96f3-13c02c18c713  \n",
      "4  c6bd7419-2748-4c56-95b4-8cec9ff8b80d  \n"
     ]
    }
   ],
   "source": [
    "import pandas as pd\n",
    "import numpy as np\n",
    "import matplotlib.pyplot as plt\n",
    "import seaborn as sns\n",
    "\n",
    "df = pd.read_csv('2019-Oct.csv')\n",
    "print(df.head())"
   ]
  },
  {
   "cell_type": "code",
   "execution_count": 18,
   "id": "4e88a7e4",
   "metadata": {},
   "outputs": [],
   "source": [
    "df['category_code'].fillna(method='ffill',inplace=True)\n",
    "df['brand'].fillna(method='ffill',inplace=True)\n",
    "df['price'].fillna(method='ffill',inplace=True)"
   ]
  },
  {
   "cell_type": "code",
   "execution_count": 19,
   "id": "692633e3",
   "metadata": {},
   "outputs": [],
   "source": [
    "df=df[(df[\"category_code\"] == \"computers.notebook\") | (df[\"category_code\"] == \"electronics.smartphone\")]"
   ]
  },
  {
   "cell_type": "code",
   "execution_count": 20,
   "id": "fb0b810e",
   "metadata": {},
   "outputs": [
    {
     "data": {
      "text/html": [
       "<div>\n",
       "<style scoped>\n",
       "    .dataframe tbody tr th:only-of-type {\n",
       "        vertical-align: middle;\n",
       "    }\n",
       "\n",
       "    .dataframe tbody tr th {\n",
       "        vertical-align: top;\n",
       "    }\n",
       "\n",
       "    .dataframe thead th {\n",
       "        text-align: right;\n",
       "    }\n",
       "</style>\n",
       "<table border=\"1\" class=\"dataframe\">\n",
       "  <thead>\n",
       "    <tr style=\"text-align: right;\">\n",
       "      <th></th>\n",
       "      <th>event_time</th>\n",
       "      <th>event_type</th>\n",
       "      <th>product_id</th>\n",
       "      <th>category_id</th>\n",
       "      <th>category_code</th>\n",
       "      <th>brand</th>\n",
       "      <th>price</th>\n",
       "      <th>user_id</th>\n",
       "      <th>user_session</th>\n",
       "    </tr>\n",
       "  </thead>\n",
       "  <tbody>\n",
       "    <tr>\n",
       "      <th>3</th>\n",
       "      <td>2019-10-01 00:00:01 UTC</td>\n",
       "      <td>view</td>\n",
       "      <td>1307067</td>\n",
       "      <td>2.053010e+18</td>\n",
       "      <td>computers.notebook</td>\n",
       "      <td>lenovo</td>\n",
       "      <td>251.74</td>\n",
       "      <td>550050854</td>\n",
       "      <td>7c90fc70-0e80-4590-96f3-13c02c18c713</td>\n",
       "    </tr>\n",
       "    <tr>\n",
       "      <th>4</th>\n",
       "      <td>2019-10-01 00:00:04 UTC</td>\n",
       "      <td>view</td>\n",
       "      <td>1004237</td>\n",
       "      <td>2.053010e+18</td>\n",
       "      <td>electronics.smartphone</td>\n",
       "      <td>apple</td>\n",
       "      <td>1081.98</td>\n",
       "      <td>535871217</td>\n",
       "      <td>c6bd7419-2748-4c56-95b4-8cec9ff8b80d</td>\n",
       "    </tr>\n",
       "    <tr>\n",
       "      <th>9</th>\n",
       "      <td>2019-10-01 00:00:11 UTC</td>\n",
       "      <td>view</td>\n",
       "      <td>1004545</td>\n",
       "      <td>2.053010e+18</td>\n",
       "      <td>electronics.smartphone</td>\n",
       "      <td>huawei</td>\n",
       "      <td>566.01</td>\n",
       "      <td>537918940</td>\n",
       "      <td>406c46ed-90a4-4787-a43b-59a410c1a5fb</td>\n",
       "    </tr>\n",
       "    <tr>\n",
       "      <th>11</th>\n",
       "      <td>2019-10-01 00:00:11 UTC</td>\n",
       "      <td>view</td>\n",
       "      <td>1005011</td>\n",
       "      <td>2.053010e+18</td>\n",
       "      <td>electronics.smartphone</td>\n",
       "      <td>samsung</td>\n",
       "      <td>900.64</td>\n",
       "      <td>530282093</td>\n",
       "      <td>50a293fb-5940-41b2-baf3-17af0e812101</td>\n",
       "    </tr>\n",
       "    <tr>\n",
       "      <th>18</th>\n",
       "      <td>2019-10-01 00:00:19 UTC</td>\n",
       "      <td>view</td>\n",
       "      <td>1306631</td>\n",
       "      <td>2.053010e+18</td>\n",
       "      <td>computers.notebook</td>\n",
       "      <td>hp</td>\n",
       "      <td>580.89</td>\n",
       "      <td>550050854</td>\n",
       "      <td>7c90fc70-0e80-4590-96f3-13c02c18c713</td>\n",
       "    </tr>\n",
       "  </tbody>\n",
       "</table>\n",
       "</div>"
      ],
      "text/plain": [
       "                 event_time event_type  product_id   category_id  \\\n",
       "3   2019-10-01 00:00:01 UTC       view     1307067  2.053010e+18   \n",
       "4   2019-10-01 00:00:04 UTC       view     1004237  2.053010e+18   \n",
       "9   2019-10-01 00:00:11 UTC       view     1004545  2.053010e+18   \n",
       "11  2019-10-01 00:00:11 UTC       view     1005011  2.053010e+18   \n",
       "18  2019-10-01 00:00:19 UTC       view     1306631  2.053010e+18   \n",
       "\n",
       "             category_code    brand    price    user_id  \\\n",
       "3       computers.notebook   lenovo   251.74  550050854   \n",
       "4   electronics.smartphone    apple  1081.98  535871217   \n",
       "9   electronics.smartphone   huawei   566.01  537918940   \n",
       "11  electronics.smartphone  samsung   900.64  530282093   \n",
       "18      computers.notebook       hp   580.89  550050854   \n",
       "\n",
       "                            user_session  \n",
       "3   7c90fc70-0e80-4590-96f3-13c02c18c713  \n",
       "4   c6bd7419-2748-4c56-95b4-8cec9ff8b80d  \n",
       "9   406c46ed-90a4-4787-a43b-59a410c1a5fb  \n",
       "11  50a293fb-5940-41b2-baf3-17af0e812101  \n",
       "18  7c90fc70-0e80-4590-96f3-13c02c18c713  "
      ]
     },
     "execution_count": 20,
     "metadata": {},
     "output_type": "execute_result"
    }
   ],
   "source": [
    "df.head()"
   ]
  },
  {
   "cell_type": "code",
   "execution_count": 21,
   "id": "84bcfc2a",
   "metadata": {},
   "outputs": [
    {
     "data": {
      "text/html": [
       "<div>\n",
       "<style scoped>\n",
       "    .dataframe tbody tr th:only-of-type {\n",
       "        vertical-align: middle;\n",
       "    }\n",
       "\n",
       "    .dataframe tbody tr th {\n",
       "        vertical-align: top;\n",
       "    }\n",
       "\n",
       "    .dataframe thead th {\n",
       "        text-align: right;\n",
       "    }\n",
       "</style>\n",
       "<table border=\"1\" class=\"dataframe\">\n",
       "  <thead>\n",
       "    <tr style=\"text-align: right;\">\n",
       "      <th></th>\n",
       "      <th>category_id</th>\n",
       "      <th>category_code</th>\n",
       "      <th>brand</th>\n",
       "      <th>price</th>\n",
       "      <th>user_id</th>\n",
       "      <th>user_session</th>\n",
       "    </tr>\n",
       "  </thead>\n",
       "  <tbody>\n",
       "    <tr>\n",
       "      <th>3</th>\n",
       "      <td>2.053010e+18</td>\n",
       "      <td>computers.notebook</td>\n",
       "      <td>lenovo</td>\n",
       "      <td>251.74</td>\n",
       "      <td>550050854</td>\n",
       "      <td>7c90fc70-0e80-4590-96f3-13c02c18c713</td>\n",
       "    </tr>\n",
       "    <tr>\n",
       "      <th>4</th>\n",
       "      <td>2.053010e+18</td>\n",
       "      <td>electronics.smartphone</td>\n",
       "      <td>apple</td>\n",
       "      <td>1081.98</td>\n",
       "      <td>535871217</td>\n",
       "      <td>c6bd7419-2748-4c56-95b4-8cec9ff8b80d</td>\n",
       "    </tr>\n",
       "    <tr>\n",
       "      <th>9</th>\n",
       "      <td>2.053010e+18</td>\n",
       "      <td>electronics.smartphone</td>\n",
       "      <td>huawei</td>\n",
       "      <td>566.01</td>\n",
       "      <td>537918940</td>\n",
       "      <td>406c46ed-90a4-4787-a43b-59a410c1a5fb</td>\n",
       "    </tr>\n",
       "    <tr>\n",
       "      <th>11</th>\n",
       "      <td>2.053010e+18</td>\n",
       "      <td>electronics.smartphone</td>\n",
       "      <td>samsung</td>\n",
       "      <td>900.64</td>\n",
       "      <td>530282093</td>\n",
       "      <td>50a293fb-5940-41b2-baf3-17af0e812101</td>\n",
       "    </tr>\n",
       "    <tr>\n",
       "      <th>18</th>\n",
       "      <td>2.053010e+18</td>\n",
       "      <td>computers.notebook</td>\n",
       "      <td>hp</td>\n",
       "      <td>580.89</td>\n",
       "      <td>550050854</td>\n",
       "      <td>7c90fc70-0e80-4590-96f3-13c02c18c713</td>\n",
       "    </tr>\n",
       "    <tr>\n",
       "      <th>...</th>\n",
       "      <td>...</td>\n",
       "      <td>...</td>\n",
       "      <td>...</td>\n",
       "      <td>...</td>\n",
       "      <td>...</td>\n",
       "      <td>...</td>\n",
       "    </tr>\n",
       "    <tr>\n",
       "      <th>1048566</th>\n",
       "      <td>2.053010e+18</td>\n",
       "      <td>computers.notebook</td>\n",
       "      <td>skad</td>\n",
       "      <td>223.94</td>\n",
       "      <td>545996329</td>\n",
       "      <td>79d2e352-fb70-4c4b-98b2-ea39f5a63b10</td>\n",
       "    </tr>\n",
       "    <tr>\n",
       "      <th>1048570</th>\n",
       "      <td>2.053010e+18</td>\n",
       "      <td>electronics.smartphone</td>\n",
       "      <td>apple</td>\n",
       "      <td>1415.48</td>\n",
       "      <td>537482499</td>\n",
       "      <td>60b0e052-920c-4469-9627-952aa88d0b16</td>\n",
       "    </tr>\n",
       "    <tr>\n",
       "      <th>1048571</th>\n",
       "      <td>2.053010e+18</td>\n",
       "      <td>electronics.smartphone</td>\n",
       "      <td>gefest</td>\n",
       "      <td>47.62</td>\n",
       "      <td>553278643</td>\n",
       "      <td>97ca518d-44df-4fca-8081-4d2d95b85607</td>\n",
       "    </tr>\n",
       "    <tr>\n",
       "      <th>1048573</th>\n",
       "      <td>2.053010e+18</td>\n",
       "      <td>electronics.smartphone</td>\n",
       "      <td>honor</td>\n",
       "      <td>257.38</td>\n",
       "      <td>542200836</td>\n",
       "      <td>fe582251-252a-4b79-af15-7c5c5ce8c6f1</td>\n",
       "    </tr>\n",
       "    <tr>\n",
       "      <th>1048574</th>\n",
       "      <td>2.053010e+18</td>\n",
       "      <td>electronics.smartphone</td>\n",
       "      <td>dymatize</td>\n",
       "      <td>18.66</td>\n",
       "      <td>555720636</td>\n",
       "      <td>dc688388-8570-4c09-add1-30e5407e3d92</td>\n",
       "    </tr>\n",
       "  </tbody>\n",
       "</table>\n",
       "<p>465641 rows × 6 columns</p>\n",
       "</div>"
      ],
      "text/plain": [
       "          category_id           category_code     brand    price    user_id  \\\n",
       "3        2.053010e+18      computers.notebook    lenovo   251.74  550050854   \n",
       "4        2.053010e+18  electronics.smartphone     apple  1081.98  535871217   \n",
       "9        2.053010e+18  electronics.smartphone    huawei   566.01  537918940   \n",
       "11       2.053010e+18  electronics.smartphone   samsung   900.64  530282093   \n",
       "18       2.053010e+18      computers.notebook        hp   580.89  550050854   \n",
       "...               ...                     ...       ...      ...        ...   \n",
       "1048566  2.053010e+18      computers.notebook      skad   223.94  545996329   \n",
       "1048570  2.053010e+18  electronics.smartphone     apple  1415.48  537482499   \n",
       "1048571  2.053010e+18  electronics.smartphone    gefest    47.62  553278643   \n",
       "1048573  2.053010e+18  electronics.smartphone     honor   257.38  542200836   \n",
       "1048574  2.053010e+18  electronics.smartphone  dymatize    18.66  555720636   \n",
       "\n",
       "                                 user_session  \n",
       "3        7c90fc70-0e80-4590-96f3-13c02c18c713  \n",
       "4        c6bd7419-2748-4c56-95b4-8cec9ff8b80d  \n",
       "9        406c46ed-90a4-4787-a43b-59a410c1a5fb  \n",
       "11       50a293fb-5940-41b2-baf3-17af0e812101  \n",
       "18       7c90fc70-0e80-4590-96f3-13c02c18c713  \n",
       "...                                       ...  \n",
       "1048566  79d2e352-fb70-4c4b-98b2-ea39f5a63b10  \n",
       "1048570  60b0e052-920c-4469-9627-952aa88d0b16  \n",
       "1048571  97ca518d-44df-4fca-8081-4d2d95b85607  \n",
       "1048573  fe582251-252a-4b79-af15-7c5c5ce8c6f1  \n",
       "1048574  dc688388-8570-4c09-add1-30e5407e3d92  \n",
       "\n",
       "[465641 rows x 6 columns]"
      ]
     },
     "execution_count": 21,
     "metadata": {},
     "output_type": "execute_result"
    }
   ],
   "source": [
    "df.drop(['event_type', 'event_time', 'product_id'], axis=1)"
   ]
  },
  {
   "cell_type": "code",
   "execution_count": 23,
   "id": "dd68f936",
   "metadata": {},
   "outputs": [],
   "source": [
    "df= df.drop(['event_type', 'event_time', 'product_id'], axis=1)"
   ]
  },
  {
   "cell_type": "code",
   "execution_count": 24,
   "id": "61b30b76",
   "metadata": {},
   "outputs": [
    {
     "name": "stdout",
     "output_type": "stream",
     "text": [
      "category_id      0\n",
      "category_code    0\n",
      "brand            0\n",
      "price            0\n",
      "user_id          0\n",
      "user_session     0\n",
      "dtype: int64\n"
     ]
    }
   ],
   "source": [
    "print(df.isnull().sum())\n",
    "#check for missing values"
   ]
  },
  {
   "cell_type": "code",
   "execution_count": 25,
   "id": "009b571f",
   "metadata": {},
   "outputs": [],
   "source": [
    "# Create a new DataFrame to hold generated columns\n",
    "new_df = pd.DataFrame({'user_id': df['user_id']})\n",
    "\n",
    "# Generate random values for each column\n",
    "new_df['Age'] = np.random.randint(18, 65, size=len(df['user_id']))\n",
    "new_df['Gender'] = np.random.choice(['Male', 'Female'], size=len(df['user_id']))\n",
    "new_df['Income'] = np.random.randint(20000, 100000, size=len(df['user_id']))\n",
    "new_df['Education'] = np.random.choice(['High School', 'Bachelor\\'s Degree', 'Master\\'s Degree', 'PhD'], size=len(df['user_id']))\n",
    "new_df['Marital Status'] = np.random.choice(['Married', 'Single', 'Divorced', 'Widowed'])\n",
    "new_df['Campaign Response'] = np.random.choice(['Yes', 'No'], size=len(df['user_id']))"
   ]
  },
  {
   "cell_type": "code",
   "execution_count": 26,
   "id": "2bc823c5",
   "metadata": {},
   "outputs": [],
   "source": [
    "user_demographics = new_df.loc[:, ['user_id', 'Age', 'Gender', 'Income', 'Education', 'Marital Status', 'Campaign Response']]"
   ]
  },
  {
   "cell_type": "code",
   "execution_count": 27,
   "id": "c87f5d6c",
   "metadata": {},
   "outputs": [
    {
     "data": {
      "text/html": [
       "<div>\n",
       "<style scoped>\n",
       "    .dataframe tbody tr th:only-of-type {\n",
       "        vertical-align: middle;\n",
       "    }\n",
       "\n",
       "    .dataframe tbody tr th {\n",
       "        vertical-align: top;\n",
       "    }\n",
       "\n",
       "    .dataframe thead th {\n",
       "        text-align: right;\n",
       "    }\n",
       "</style>\n",
       "<table border=\"1\" class=\"dataframe\">\n",
       "  <thead>\n",
       "    <tr style=\"text-align: right;\">\n",
       "      <th></th>\n",
       "      <th>user_id</th>\n",
       "      <th>Age</th>\n",
       "      <th>Gender</th>\n",
       "      <th>Income</th>\n",
       "      <th>Education</th>\n",
       "      <th>Marital Status</th>\n",
       "      <th>Campaign Response</th>\n",
       "    </tr>\n",
       "  </thead>\n",
       "  <tbody>\n",
       "    <tr>\n",
       "      <th>3</th>\n",
       "      <td>550050854</td>\n",
       "      <td>39</td>\n",
       "      <td>Male</td>\n",
       "      <td>41084</td>\n",
       "      <td>Bachelor's Degree</td>\n",
       "      <td>Divorced</td>\n",
       "      <td>Yes</td>\n",
       "    </tr>\n",
       "    <tr>\n",
       "      <th>4</th>\n",
       "      <td>535871217</td>\n",
       "      <td>36</td>\n",
       "      <td>Male</td>\n",
       "      <td>62257</td>\n",
       "      <td>Bachelor's Degree</td>\n",
       "      <td>Divorced</td>\n",
       "      <td>No</td>\n",
       "    </tr>\n",
       "    <tr>\n",
       "      <th>9</th>\n",
       "      <td>537918940</td>\n",
       "      <td>28</td>\n",
       "      <td>Male</td>\n",
       "      <td>71911</td>\n",
       "      <td>PhD</td>\n",
       "      <td>Divorced</td>\n",
       "      <td>Yes</td>\n",
       "    </tr>\n",
       "    <tr>\n",
       "      <th>11</th>\n",
       "      <td>530282093</td>\n",
       "      <td>57</td>\n",
       "      <td>Female</td>\n",
       "      <td>88098</td>\n",
       "      <td>Bachelor's Degree</td>\n",
       "      <td>Divorced</td>\n",
       "      <td>No</td>\n",
       "    </tr>\n",
       "    <tr>\n",
       "      <th>18</th>\n",
       "      <td>550050854</td>\n",
       "      <td>41</td>\n",
       "      <td>Female</td>\n",
       "      <td>96876</td>\n",
       "      <td>High School</td>\n",
       "      <td>Divorced</td>\n",
       "      <td>No</td>\n",
       "    </tr>\n",
       "  </tbody>\n",
       "</table>\n",
       "</div>"
      ],
      "text/plain": [
       "      user_id  Age  Gender  Income          Education Marital Status  \\\n",
       "3   550050854   39    Male   41084  Bachelor's Degree       Divorced   \n",
       "4   535871217   36    Male   62257  Bachelor's Degree       Divorced   \n",
       "9   537918940   28    Male   71911                PhD       Divorced   \n",
       "11  530282093   57  Female   88098  Bachelor's Degree       Divorced   \n",
       "18  550050854   41  Female   96876        High School       Divorced   \n",
       "\n",
       "   Campaign Response  \n",
       "3                Yes  \n",
       "4                 No  \n",
       "9                Yes  \n",
       "11                No  \n",
       "18                No  "
      ]
     },
     "execution_count": 27,
     "metadata": {},
     "output_type": "execute_result"
    }
   ],
   "source": [
    "new_df.head()"
   ]
  },
  {
   "cell_type": "code",
   "execution_count": 28,
   "id": "72e57f2a",
   "metadata": {},
   "outputs": [],
   "source": [
    "new_df = df.groupby('user_id').apply(lambda x: pd.DataFrame({\n",
    "    'user_id': x['user_id'].unique(),\n",
    "    'Age': np.random.randint(18, 65),\n",
    "    'Gender': np.random.choice(['Male', 'Female']),\n",
    "    'Income':np.random.randint(20000, 100000), \n",
    "    'Education': np.random.choice(['High School', 'Bachelor\\'s Degree', 'Master\\'s Degree', 'PhD']),\n",
    "    'Marital Status': np.random.choice(['Married', 'Single', 'Divorced', 'Widowed']),\n",
    "    'Campaign Response': np.random.choice(['Yes', 'No']),\n",
    "}))"
   ]
  },
  {
   "cell_type": "code",
   "execution_count": 29,
   "id": "50dcd057",
   "metadata": {},
   "outputs": [],
   "source": [
    "new_df = new_df.reset_index(drop=True)"
   ]
  },
  {
   "cell_type": "code",
   "execution_count": 30,
   "id": "afacecb9",
   "metadata": {},
   "outputs": [
    {
     "data": {
      "text/plain": [
       "<bound method NDFrame.tail of           user_id  Age  Gender  Income          Education Marital Status  \\\n",
       "0       244951053   52  Female   75503        High School        Married   \n",
       "1       306087674   53  Female   40820    Master's Degree        Married   \n",
       "2       315309190   64  Female   62164        High School       Divorced   \n",
       "3       332550649   38    Male   21951    Master's Degree         Single   \n",
       "4       337535108   61    Male   70331        High School       Divorced   \n",
       "...           ...  ...     ...     ...                ...            ...   \n",
       "107387  555727499   32    Male   75592                PhD       Divorced   \n",
       "107388  555727577   26    Male   59912  Bachelor's Degree        Widowed   \n",
       "107389  555727580   41  Female   26905                PhD        Widowed   \n",
       "107390  555727581   56  Female   64529    Master's Degree       Divorced   \n",
       "107391  555727730   25    Male   41739  Bachelor's Degree        Widowed   \n",
       "\n",
       "       Campaign Response  \n",
       "0                     No  \n",
       "1                    Yes  \n",
       "2                     No  \n",
       "3                    Yes  \n",
       "4                     No  \n",
       "...                  ...  \n",
       "107387               Yes  \n",
       "107388               Yes  \n",
       "107389               Yes  \n",
       "107390               Yes  \n",
       "107391               Yes  \n",
       "\n",
       "[107392 rows x 7 columns]>"
      ]
     },
     "execution_count": 30,
     "metadata": {},
     "output_type": "execute_result"
    }
   ],
   "source": [
    "new_df.tail\n",
    "#df.tail"
   ]
  },
  {
   "cell_type": "code",
   "execution_count": 31,
   "id": "ce64cb3b",
   "metadata": {},
   "outputs": [],
   "source": [
    "merged_df = pd.concat([df, new_df], axis=1)"
   ]
  },
  {
   "cell_type": "code",
   "execution_count": 33,
   "id": "0541a836",
   "metadata": {},
   "outputs": [
    {
     "data": {
      "text/html": [
       "<div>\n",
       "<style scoped>\n",
       "    .dataframe tbody tr th:only-of-type {\n",
       "        vertical-align: middle;\n",
       "    }\n",
       "\n",
       "    .dataframe tbody tr th {\n",
       "        vertical-align: top;\n",
       "    }\n",
       "\n",
       "    .dataframe thead th {\n",
       "        text-align: right;\n",
       "    }\n",
       "</style>\n",
       "<table border=\"1\" class=\"dataframe\">\n",
       "  <thead>\n",
       "    <tr style=\"text-align: right;\">\n",
       "      <th></th>\n",
       "      <th>category_id</th>\n",
       "      <th>category_code</th>\n",
       "      <th>brand</th>\n",
       "      <th>price</th>\n",
       "      <th>user_id</th>\n",
       "      <th>user_session</th>\n",
       "      <th>user_id</th>\n",
       "      <th>Age</th>\n",
       "      <th>Gender</th>\n",
       "      <th>Income</th>\n",
       "      <th>Education</th>\n",
       "      <th>Marital Status</th>\n",
       "      <th>Campaign Response</th>\n",
       "    </tr>\n",
       "  </thead>\n",
       "  <tbody>\n",
       "    <tr>\n",
       "      <th>3</th>\n",
       "      <td>2.053010e+18</td>\n",
       "      <td>computers.notebook</td>\n",
       "      <td>lenovo</td>\n",
       "      <td>251.74</td>\n",
       "      <td>550050854.0</td>\n",
       "      <td>7c90fc70-0e80-4590-96f3-13c02c18c713</td>\n",
       "      <td>332550649.0</td>\n",
       "      <td>38.0</td>\n",
       "      <td>Male</td>\n",
       "      <td>21951.0</td>\n",
       "      <td>Master's Degree</td>\n",
       "      <td>Single</td>\n",
       "      <td>Yes</td>\n",
       "    </tr>\n",
       "    <tr>\n",
       "      <th>4</th>\n",
       "      <td>2.053010e+18</td>\n",
       "      <td>electronics.smartphone</td>\n",
       "      <td>apple</td>\n",
       "      <td>1081.98</td>\n",
       "      <td>535871217.0</td>\n",
       "      <td>c6bd7419-2748-4c56-95b4-8cec9ff8b80d</td>\n",
       "      <td>337535108.0</td>\n",
       "      <td>61.0</td>\n",
       "      <td>Male</td>\n",
       "      <td>70331.0</td>\n",
       "      <td>High School</td>\n",
       "      <td>Divorced</td>\n",
       "      <td>No</td>\n",
       "    </tr>\n",
       "    <tr>\n",
       "      <th>9</th>\n",
       "      <td>2.053010e+18</td>\n",
       "      <td>electronics.smartphone</td>\n",
       "      <td>huawei</td>\n",
       "      <td>566.01</td>\n",
       "      <td>537918940.0</td>\n",
       "      <td>406c46ed-90a4-4787-a43b-59a410c1a5fb</td>\n",
       "      <td>362972137.0</td>\n",
       "      <td>25.0</td>\n",
       "      <td>Female</td>\n",
       "      <td>68739.0</td>\n",
       "      <td>Bachelor's Degree</td>\n",
       "      <td>Widowed</td>\n",
       "      <td>No</td>\n",
       "    </tr>\n",
       "    <tr>\n",
       "      <th>11</th>\n",
       "      <td>2.053010e+18</td>\n",
       "      <td>electronics.smartphone</td>\n",
       "      <td>samsung</td>\n",
       "      <td>900.64</td>\n",
       "      <td>530282093.0</td>\n",
       "      <td>50a293fb-5940-41b2-baf3-17af0e812101</td>\n",
       "      <td>372118107.0</td>\n",
       "      <td>18.0</td>\n",
       "      <td>Female</td>\n",
       "      <td>70188.0</td>\n",
       "      <td>Bachelor's Degree</td>\n",
       "      <td>Single</td>\n",
       "      <td>No</td>\n",
       "    </tr>\n",
       "    <tr>\n",
       "      <th>18</th>\n",
       "      <td>2.053010e+18</td>\n",
       "      <td>computers.notebook</td>\n",
       "      <td>hp</td>\n",
       "      <td>580.89</td>\n",
       "      <td>550050854.0</td>\n",
       "      <td>7c90fc70-0e80-4590-96f3-13c02c18c713</td>\n",
       "      <td>393502154.0</td>\n",
       "      <td>24.0</td>\n",
       "      <td>Male</td>\n",
       "      <td>59850.0</td>\n",
       "      <td>Master's Degree</td>\n",
       "      <td>Married</td>\n",
       "      <td>Yes</td>\n",
       "    </tr>\n",
       "  </tbody>\n",
       "</table>\n",
       "</div>"
      ],
      "text/plain": [
       "     category_id           category_code    brand    price      user_id  \\\n",
       "3   2.053010e+18      computers.notebook   lenovo   251.74  550050854.0   \n",
       "4   2.053010e+18  electronics.smartphone    apple  1081.98  535871217.0   \n",
       "9   2.053010e+18  electronics.smartphone   huawei   566.01  537918940.0   \n",
       "11  2.053010e+18  electronics.smartphone  samsung   900.64  530282093.0   \n",
       "18  2.053010e+18      computers.notebook       hp   580.89  550050854.0   \n",
       "\n",
       "                            user_session      user_id   Age  Gender   Income  \\\n",
       "3   7c90fc70-0e80-4590-96f3-13c02c18c713  332550649.0  38.0    Male  21951.0   \n",
       "4   c6bd7419-2748-4c56-95b4-8cec9ff8b80d  337535108.0  61.0    Male  70331.0   \n",
       "9   406c46ed-90a4-4787-a43b-59a410c1a5fb  362972137.0  25.0  Female  68739.0   \n",
       "11  50a293fb-5940-41b2-baf3-17af0e812101  372118107.0  18.0  Female  70188.0   \n",
       "18  7c90fc70-0e80-4590-96f3-13c02c18c713  393502154.0  24.0    Male  59850.0   \n",
       "\n",
       "            Education Marital Status Campaign Response  \n",
       "3     Master's Degree         Single               Yes  \n",
       "4         High School       Divorced                No  \n",
       "9   Bachelor's Degree        Widowed                No  \n",
       "11  Bachelor's Degree         Single                No  \n",
       "18    Master's Degree        Married               Yes  "
      ]
     },
     "execution_count": 33,
     "metadata": {},
     "output_type": "execute_result"
    }
   ],
   "source": [
    "merged_df.head()\n",
    "#df.tail"
   ]
  },
  {
   "cell_type": "code",
   "execution_count": 34,
   "id": "1266b53f",
   "metadata": {},
   "outputs": [],
   "source": [
    "new_df = pd.DataFrame({\n",
    "    'user_id': df['user_id'].unique(),\n",
    "    'Age': np.random.randint(18, 65, size=len(df['user_id'].unique())),\n",
    "    'Gender':np.random.choice(['Male', 'Female'], size=len(df['user_id'].unique())),\n",
    "    'Income': np.random.randint(20000, 100000, size=len(df['user_id'].unique())),\n",
    "    'Education': np.random.choice(['High School', 'Bachelor\\'s Degree', 'Master\\'s Degree', 'PhD'], size=len(df['user_id'].unique())),\n",
    "    'Marital Status': np.random.choice(['Married', 'Single', 'Divorced', 'Widowed'], size=len(df['user_id'].unique())),\n",
    "    'Campaign Response': np.random.choice(['Yes', 'No'], size=len(df['user_id'].unique()))\n",
    "})"
   ]
  },
  {
   "cell_type": "code",
   "execution_count": 43,
   "id": "c964ab4b",
   "metadata": {},
   "outputs": [
    {
     "ename": "SyntaxError",
     "evalue": "invalid non-printable character U+00A0 (624887117.py, line 3)",
     "output_type": "error",
     "traceback": [
      "\u001b[1;36m  File \u001b[1;32m\"C:\\Users\\bida21-052\\AppData\\Local\\Temp\\ipykernel_23832\\624887117.py\"\u001b[1;36m, line \u001b[1;32m3\u001b[0m\n\u001b[1;33m    if row['Age'] < 25:\u001b[0m\n\u001b[1;37m    ^\u001b[0m\n\u001b[1;31mSyntaxError\u001b[0m\u001b[1;31m:\u001b[0m invalid non-printable character U+00A0\n"
     ]
    }
   ],
   "source": [
    "#Set age values based on user age ranges\n",
    "for i, row in new_df.iterrows():\n",
    "    if row['Age'] < 25:\n",
    "        new_df.at[i, 'Age'] = np.random.randint(16, 25)\n",
    "    elif 25 <= row['Age'] < 35:\n",
    "        new_df.at[i, 'Age'] = np.random.randint(25, 35)\n",
    "    elif 35 <= row['Age'] < 50:\n",
    "        new_df.at[i, 'Age'] = np.random.randint(35, 50)\n",
    "    else:\n",
    "        new_df.at[i, 'Age'] = np.random.randint(50, 70)\n",
    "\n",
    " \n",
    "\n",
    "#Set income values based on education level and marital status\n",
    "\n",
    " \n",
    "\n",
    "for i, row in new_df.iterrows():\n",
    "    if row['Education'] == 'High School':\n",
    "        if row['Marital Status'] == 'Single':\n",
    "            new_df.at[i, 'Income'] = np.random.randint(10000, 30000)\n",
    "        elif row['Marital Status'] == 'Married':\n",
    "            new_df.at[i, 'Income'] = np.random.randint(40000, 80000)\n",
    "        elif row['Marital Status'] == 'Divorced':\n",
    "            new_df.at[i, 'Income'] = np.random.randint(30000, 50000)\n",
    "        elif row['Marital Status'] == 'Widowed':\n",
    "            new_df.at[i, 'Income'] = np.random.randint(20000, 40000)\n",
    "    elif row['Education'] == r\"Bachelor\\s Degree\":\n",
    "        # Handle income modifications based on different marital statuses for 'Bachelor\\s Degree'\n",
    "        if row['Marital Status'] == 'Single':\n",
    "            new_df.at[i, 'Income'] = np.random.randint(25000, 35000)\n",
    "        elif row['Marital Status'] == 'Married':\n",
    "            new_df.at[i, 'Income'] = np.random.randint(40000, 80000)\n",
    "        elif row['Marital Status'] == 'Divorced':\n",
    "            new_df.at[i, 'Income'] = np.random.randint(80000, 90000)\n",
    "        elif row['Marital Status'] == 'Widowed':\n",
    "            new_df.at[i, 'Income'] = np.random.randint(80000, 90000)\n",
    "    elif row['Education'] == r\"Master\\s Degree\":\n",
    "        # Handle income modifications based on different marital statuses for 'Master\\s Degree'\n",
    "        if row['Marital Status'] == 'Single':\n",
    "            new_df.at[i, 'Income'] = np.random.randint(30000, 50000)\n",
    "        elif row['Marital Status'] == 'Married':\n",
    "            new_df.at[i, 'Income'] = np.random.randint(50000, 80000)\n",
    "        elif row['Marital Status'] == 'Divorced':\n",
    "            new_df.at[i, 'Income'] = np.random.randint(50000, 80000)\n",
    "        elif row['Marital Status'] == 'Widowed':\n",
    "            new_df.at[i, 'Income'] = np.random.randint(50000, 80000)\n",
    "    else:\n",
    "        # Handle income modifications based on different marital statuses for other education levels\n",
    "        if row['Marital Status'] == 'Single':\n",
    "            new_df.at[i, 'Income'] = np.random.randint(100000, 120000)\n",
    "        elif row['Marital Status'] == 'Married':\n",
    "            new_df.at[i, 'Income'] = np.random.randint(120000, 130000)\n",
    "        elif row['Marital Status'] == 'Divorced':\n",
    "            new_df.at[i, 'Income'] = np.random.randint(130000, 150000)\n",
    "        elif row['Marital Status'] == 'Widowed':\n",
    "            new_df.at[i, 'Income'] = np.random.randint(200000, 300000)\n",
    "\n",
    "for i, row in new_df.iterrows():\n",
    "    if row['Age'] < 25:\n",
    "        new_df.at[i, 'Education'] = np.random.choice(['High School','Bachelor\\'s Degree'])\n",
    "        new_df.at[i, 'Marital Status'] = 'Single'\n",
    "    elif row['Age'] >= 25 and row['Age'] < 35:\n",
    "        if row['Income'] < 60000:\n",
    "            new_df.at[i, 'Education'] = np.random.choice(['High School','Bachelor\\'s Degree'])\n",
    "            new_df.at[i, 'Marital Status'] = 'Single'\n",
    "        else: \n",
    "            new_df.at[i, 'Education'] = np.random.choice(['Bachelor\\'s Degree','Master\\'s Degree'])\n",
    "            new_df.at[i, 'Marital Status'] = np.random.choice(['Married', 'Single'])\n",
    "    elif row['Age'] >= 35 and row['Age'] < 50:\n",
    "        if row['Income'] < 80000:\n",
    "            new_df.at[i, 'Education'] = np.random.choice(['Bachelor\\'s Degree','Master\\'s Degree'])\n",
    "            new_df.at[i, 'Marital Status'] = np.random.choice(['Married','Single'])\n",
    "        else: \n",
    "            new_df.at[i, 'Education'] = np.random.choice(['Master\\'s Degree','PhD'])\n",
    "            new_df.at[i, 'Marital Status'] = np.random.choice(['Married', 'Divorced'])\n",
    "    else:\n",
    "        if row['Income'] < 300000:\n",
    "            new_df.at[i, 'Education'] = np.random.choice(['Master\\'s Degree', 'PhD'])\n",
    "            new_df.at[i, 'Marital Status'] = np.random.choice(['Married','Divorced'])\n",
    "        else: \n",
    "            new_df.at[i, 'Education'] = 'PhD'\n",
    "            new_df.at[i, 'Marital Status'] = np.random.choice(['Married', 'Widowed'])"
   ]
  },
  {
   "cell_type": "code",
   "execution_count": 53,
   "id": "994f27b2",
   "metadata": {},
   "outputs": [
    {
     "name": "stdout",
     "output_type": "stream",
     "text": [
      "     user_id  Age  Gender  Income          Education Marital Status  \\\n",
      "0  550050854   28    Male   45961        High School         Single   \n",
      "1  535871217   20    Male   87518  Bachelor's Degree         Single   \n",
      "2  537918940   58  Female  198124  Bachelor's Degree        Widowed   \n",
      "3  530282093   30    Male   41134        High School         Single   \n",
      "4  555446831   23  Female   35426        High School         Single   \n",
      "\n",
      "  Campaign Response  \n",
      "0                No  \n",
      "1                No  \n",
      "2               Yes  \n",
      "3                No  \n",
      "4               Yes  \n"
     ]
    }
   ],
   "source": [
    "import numpy as np\n",
    "\n",
    "# Set age values based on customer ranges\n",
    "for i, row in new_df.iterrows():\n",
    "    if row['Age'] < 25:\n",
    "        new_df.at[i, 'Age'] = np.random.randint(20, 25)\n",
    "    elif row['Age'] >= 25 and row['Age'] < 35:\n",
    "        new_df.at[i, 'Age'] = np.random.randint(25, 35)\n",
    "    elif row['Age'] >= 35 and row['Age'] < 50:\n",
    "        new_df.at[i, 'Age'] = np.random.randint(35, 50)\n",
    "    elif row['Age'] >= 50 and row['Age'] < 65:\n",
    "        new_df.at[i, 'Age'] = np.random.randint(50, 65)\n",
    "    else:\n",
    "        new_df.at[i, 'Age'] = np.random.randint(65, 80)\n",
    "\n",
    "# Set income values based on education values\n",
    "for i, row in new_df.iterrows():\n",
    "    if row['Education'] == 'High School':\n",
    "        if row['Marital Status'] == 'Single':\n",
    "            new_df.at[i, 'Income'] = np.random.randint(20000, 50000)\n",
    "        else:\n",
    "            new_df.at[i, 'Income'] = np.random.randint(50000, 80000)\n",
    "    elif row['Education'] == 'Diploma':\n",
    "        if row['Marital Status'] == 'Single':\n",
    "            new_df.at[i, 'Income'] = np.random.randint(20000, 60000)\n",
    "        else:\n",
    "            new_df.at[i, 'Income'] = np.random.randint(60000, 90000)\n",
    "    elif row['Education'] == 'Bachelors Degree':\n",
    "        if row['Marital Status'] == 'Single':\n",
    "            new_df.at[i, 'Income'] = np.random.randint(40000, 80000)\n",
    "        else:\n",
    "            new_df.at[i, 'Income'] = np.random.randint(80000, 120000)\n",
    "    elif row['Education'] == 'Masters Degree':\n",
    "        if row['Marital Status'] == 'Single':\n",
    "            new_df.at[i, 'Income'] = np.random.randint(60000, 100000)\n",
    "        else:\n",
    "            new_df.at[i, 'Income'] = np.random.randint(100000, 150000)\n",
    "    elif row['Education'] == 'PhD':\n",
    "        if row['Marital Status'] == 'Single':\n",
    "            new_df.at[i, 'Income'] = np.random.randint(150000, 180000)\n",
    "        else:\n",
    "            new_df.at[i, 'Income'] = np.random.randint(180000, 250000)\n",
    "    else:\n",
    "        if row['Marital Status'] == 'Single':\n",
    "            new_df.at[i, 'Income'] = np.random.randint(80000, 120000)\n",
    "        else:\n",
    "            new_df.at[i, 'Income'] = np.random.randint(120000, 200000)\n",
    "            \n",
    "# Display the modified DataFrame\n",
    "print(new_df.head())"
   ]
  },
  {
   "cell_type": "code",
   "execution_count": 55,
   "id": "2eb76e68",
   "metadata": {},
   "outputs": [
    {
     "name": "stdout",
     "output_type": "stream",
     "text": [
      "     user_id  Age  Gender  Income          Education Marital Status  \\\n",
      "0  550050854   28    Male   45961        High School         Single   \n",
      "1  535871217   20    Male   87518  Bachelor's Degree         Single   \n",
      "2  537918940   58  Female  198124                PhD        Married   \n",
      "3  530282093   30    Male   41134        High School         Single   \n",
      "4  555446831   23  Female   35426        High School         Single   \n",
      "\n",
      "  Campaign Response  \n",
      "0                No  \n",
      "1                No  \n",
      "2               Yes  \n",
      "3                No  \n",
      "4               Yes  \n"
     ]
    }
   ],
   "source": [
    "# Set education and marital status values based on age and income\n",
    "for i, row in new_df.iterrows():\n",
    "    if row['Age'] < 25:\n",
    "        new_df.at[i, 'Education'] = np.random.choice(['High School', 'Bachelor\\'s Degree'])\n",
    "        new_df.at[i, 'Marital Status'] = 'Single'\n",
    "    elif row['Age'] >= 25 and row['Age'] < 35:\n",
    "        if row['Income'] < 60000:\n",
    "            new_df.at[i, 'Education'] = np.random.choice(['High School', 'Bachelor\\'s Degree'])\n",
    "            new_df.at[i, 'Marital Status'] = 'Single'\n",
    "        else:\n",
    "            new_df.at[i, 'Education'] = np.random.choice(['High School', 'Bachelor\\'s Degree'])\n",
    "            new_df.at[i, 'Marital Status'] = 'Single'\n",
    "    elif row['Age'] >= 35 and row['Age'] < 50:\n",
    "        if row['Income'] < 80000:\n",
    "            new_df.at[i, 'Education'] = np.random.choice(['Bachelor\\'s Degree', 'Master\\'s Degree'])\n",
    "            new_df.at[i, 'Marital Status'] = 'Single'\n",
    "        else:\n",
    "            new_df.at[i, 'Education'] = np.random.choice(['High School', 'Bachelor\\'s Degree'])\n",
    "            new_df.at[i, 'Marital Status'] = np.random.choice(['Married', 'Single'])\n",
    "    elif row['Age'] >= 50 and row['Age'] < 65:\n",
    "        if row['Income'] < 100000:\n",
    "            new_df.at[i, 'Education'] = np.random.choice(['Master\\'s Degree', 'PhD'])\n",
    "            new_df.at[i, 'Marital Status'] = np.random.choice(['Married', 'Divorced'])\n",
    "        else:\n",
    "            new_df.at[i, 'Education'] = 'PhD'\n",
    "            new_df.at[i, 'Marital Status'] = np.random.choice(['Married', 'Widowed'])\n",
    "\n",
    "# Display the modified DataFrame\n",
    "print(new_df.head())\n"
   ]
  },
  {
   "cell_type": "code",
   "execution_count": 56,
   "id": "45524cc3",
   "metadata": {},
   "outputs": [
    {
     "data": {
      "text/html": [
       "<div>\n",
       "<style scoped>\n",
       "    .dataframe tbody tr th:only-of-type {\n",
       "        vertical-align: middle;\n",
       "    }\n",
       "\n",
       "    .dataframe tbody tr th {\n",
       "        vertical-align: top;\n",
       "    }\n",
       "\n",
       "    .dataframe thead th {\n",
       "        text-align: right;\n",
       "    }\n",
       "</style>\n",
       "<table border=\"1\" class=\"dataframe\">\n",
       "  <thead>\n",
       "    <tr style=\"text-align: right;\">\n",
       "      <th></th>\n",
       "      <th>category_id</th>\n",
       "      <th>category_code</th>\n",
       "      <th>brand</th>\n",
       "      <th>price</th>\n",
       "      <th>user_id</th>\n",
       "      <th>user_session</th>\n",
       "    </tr>\n",
       "  </thead>\n",
       "  <tbody>\n",
       "    <tr>\n",
       "      <th>3</th>\n",
       "      <td>2.053010e+18</td>\n",
       "      <td>computers.notebook</td>\n",
       "      <td>lenovo</td>\n",
       "      <td>251.74</td>\n",
       "      <td>550050854</td>\n",
       "      <td>7c90fc70-0e80-4590-96f3-13c02c18c713</td>\n",
       "    </tr>\n",
       "    <tr>\n",
       "      <th>4</th>\n",
       "      <td>2.053010e+18</td>\n",
       "      <td>electronics.smartphone</td>\n",
       "      <td>apple</td>\n",
       "      <td>1081.98</td>\n",
       "      <td>535871217</td>\n",
       "      <td>c6bd7419-2748-4c56-95b4-8cec9ff8b80d</td>\n",
       "    </tr>\n",
       "    <tr>\n",
       "      <th>9</th>\n",
       "      <td>2.053010e+18</td>\n",
       "      <td>electronics.smartphone</td>\n",
       "      <td>huawei</td>\n",
       "      <td>566.01</td>\n",
       "      <td>537918940</td>\n",
       "      <td>406c46ed-90a4-4787-a43b-59a410c1a5fb</td>\n",
       "    </tr>\n",
       "    <tr>\n",
       "      <th>11</th>\n",
       "      <td>2.053010e+18</td>\n",
       "      <td>electronics.smartphone</td>\n",
       "      <td>samsung</td>\n",
       "      <td>900.64</td>\n",
       "      <td>530282093</td>\n",
       "      <td>50a293fb-5940-41b2-baf3-17af0e812101</td>\n",
       "    </tr>\n",
       "    <tr>\n",
       "      <th>18</th>\n",
       "      <td>2.053010e+18</td>\n",
       "      <td>computers.notebook</td>\n",
       "      <td>hp</td>\n",
       "      <td>580.89</td>\n",
       "      <td>550050854</td>\n",
       "      <td>7c90fc70-0e80-4590-96f3-13c02c18c713</td>\n",
       "    </tr>\n",
       "  </tbody>\n",
       "</table>\n",
       "</div>"
      ],
      "text/plain": [
       "     category_id           category_code    brand    price    user_id  \\\n",
       "3   2.053010e+18      computers.notebook   lenovo   251.74  550050854   \n",
       "4   2.053010e+18  electronics.smartphone    apple  1081.98  535871217   \n",
       "9   2.053010e+18  electronics.smartphone   huawei   566.01  537918940   \n",
       "11  2.053010e+18  electronics.smartphone  samsung   900.64  530282093   \n",
       "18  2.053010e+18      computers.notebook       hp   580.89  550050854   \n",
       "\n",
       "                            user_session  \n",
       "3   7c90fc70-0e80-4590-96f3-13c02c18c713  \n",
       "4   c6bd7419-2748-4c56-95b4-8cec9ff8b80d  \n",
       "9   406c46ed-90a4-4787-a43b-59a410c1a5fb  \n",
       "11  50a293fb-5940-41b2-baf3-17af0e812101  \n",
       "18  7c90fc70-0e80-4590-96f3-13c02c18c713  "
      ]
     },
     "execution_count": 56,
     "metadata": {},
     "output_type": "execute_result"
    }
   ],
   "source": [
    "df.head()"
   ]
  },
  {
   "cell_type": "code",
   "execution_count": 58,
   "id": "86484f6c",
   "metadata": {},
   "outputs": [],
   "source": [
    "me_df = pd.merge(df, new_df, on='user_id')"
   ]
  },
  {
   "cell_type": "code",
   "execution_count": 61,
   "id": "23f9b341",
   "metadata": {},
   "outputs": [],
   "source": [
    "me_df.to_csv('demo.csv', index=False)"
   ]
  },
  {
   "cell_type": "code",
   "execution_count": 65,
   "id": "f0f5fcc2",
   "metadata": {},
   "outputs": [
    {
     "data": {
      "image/png": "[encoded data removed]",
      "text/plain": [
       "<Figure size 640x480 with 1 Axes>"
      ]
     },
     "metadata": {},
     "output_type": "display_data"
    }
   ],
   "source": [
    "# Histogram of age distribution\n",
    "plt.hist(me_df['Age'], bins=20)\n",
    "plt.title('Age Distribution') \n",
    "plt.xlabel ('Age')\n",
    "plt.ylabel ('Count') \n",
    "plt. show()"
   ]
  },
  {
   "cell_type": "code",
   "execution_count": 66,
   "id": "16993aa2",
   "metadata": {},
   "outputs": [
    {
     "data": {
      "image/png": "[encoded data removed]",
      "text/plain": [
       "<Figure size 640x480 with 1 Axes>"
      ]
     },
     "metadata": {},
     "output_type": "display_data"
    }
   ],
   "source": [
    "sns.countplot (x='Gender', data=new_df)\n",
    "plt.title('Gender Distribution')\n",
    "plt.xlabel('Gender')\n",
    "plt.ylabel ('Count')\n",
    "plt.show()"
   ]
  },
  {
   "cell_type": "code",
   "execution_count": 67,
   "id": "bf961165",
   "metadata": {},
   "outputs": [
    {
     "data": {
      "image/png": "[encoded data removed]",
      "text/plain": [
       "<Figure size 640x480 with 1 Axes>"
      ]
     },
     "metadata": {},
     "output_type": "display_data"
    }
   ],
   "source": [
    "sns.boxplot(x='Income', y='category_code', data=me_df)  # Boxplot\n",
    "plt.title('Boxplot of Price Column by Brand Column')\n",
    "plt.show()"
   ]
  },
  {
   "cell_type": "code",
   "execution_count": 68,
   "id": "e50464bf",
   "metadata": {},
   "outputs": [
    {
     "data": {
      "image/png": "[encoded data removed]",
      "text/plain": [
       "<Figure size 640x480 with 2 Axes>"
      ]
     },
     "metadata": {},
     "output_type": "display_data"
    }
   ],
   "source": [
    "correlation_matrix = me_df.corr()\n",
    "sns.heatmap(correlation_matrix, annot=True, cmap='coolwarm')\n",
    "plt.title('Correlation Heatmap')\n",
    "plt.show()"
   ]
  },
  {
   "cell_type": "code",
   "execution_count": 69,
   "id": "e9bb1cac",
   "metadata": {},
   "outputs": [
    {
     "data": {
      "image/png": "[encoded data removed]",
      "text/plain": [
       "<Figure size 640x480 with 1 Axes>"
      ]
     },
     "metadata": {},
     "output_type": "display_data"
    }
   ],
   "source": [
    "plt.show()\n",
    "# Scatter plot of income and age\n",
    "plt.scatter (me_df['Education'],me_df['Income']) \n",
    "plt.title('Income vs. Education')\n",
    "plt.xlabel ('Education')\n",
    "plt.ylabel ('Income') \n",
    "plt.show()"
   ]
  },
  {
   "cell_type": "code",
   "execution_count": 73,
   "id": "57e6aec3",
   "metadata": {},
   "outputs": [
    {
     "data": {
      "image/png": "[encoded data removed]",
      "text/plain": [
       "<Figure size 640x480 with 1 Axes>"
      ]
     },
     "metadata": {},
     "output_type": "display_data"
    }
   ],
   "source": [
    "me_df['Campaign Response'].value_counts().plot.pie(autopct='%1.1f%%')\n",
    "plt.title('Responsive Distribution')\n",
    "plt.ylabel('')\n",
    "plt.show()"
   ]
  },
  {
   "cell_type": "code",
   "execution_count": 75,
   "id": "d729f6a4",
   "metadata": {},
   "outputs": [
    {
     "data": {
      "image/png": "[encoded data removed]",
      "text/plain": [
       "<Figure size 640x480 with 1 Axes>"
      ]
     },
     "metadata": {},
     "output_type": "display_data"
    }
   ],
   "source": [
    "sns.barplot(data=me_df, x='Marital Status', y='price')\n",
    "plt.title('Average Price by Marital Status')\n",
    "plt.show()"
   ]
  },
  {
   "cell_type": "code",
   "execution_count": 77,
   "id": "abd6dc31",
   "metadata": {},
   "outputs": [
    {
     "data": {
      "image/png": "[encoded data removed]",
      "text/plain": [
       "<Figure size 640x480 with 1 Axes>"
      ]
     },
     "metadata": {},
     "output_type": "display_data"
    }
   ],
   "source": [
    "sns.countplot(data=me_df, x='Education')\n",
    "plt.title('Education Level count')\n",
    "plt.show()"
   ]
  },
  {
   "cell_type": "code",
   "execution_count": 127,
   "id": "0fec25ec",
   "metadata": {},
   "outputs": [
    {
     "ename": "NameError",
     "evalue": "name 'user_id' is not defined",
     "output_type": "error",
     "traceback": [
      "\u001b[1;31m---------------------------------------------------------------------------\u001b[0m",
      "\u001b[1;31mNameError\u001b[0m                                 Traceback (most recent call last)",
      "\u001b[1;32m~\\AppData\\Local\\Temp\\ipykernel_23832\\1409185821.py\u001b[0m in \u001b[0;36m<module>\u001b[1;34m\u001b[0m\n\u001b[0;32m      1\u001b[0m \u001b[1;31m# Top 10 popular categories in new user\u001b[0m\u001b[1;33m\u001b[0m\u001b[1;33m\u001b[0m\u001b[0m\n\u001b[1;32m----> 2\u001b[1;33m user_id['category_code'].value_counts().nlargest(10).plot( \n\u001b[0m\u001b[0;32m      3\u001b[0m     \u001b[0mkind\u001b[0m\u001b[1;33m=\u001b[0m\u001b[1;34m'bar'\u001b[0m\u001b[1;33m,\u001b[0m\u001b[1;33m\u001b[0m\u001b[1;33m\u001b[0m\u001b[0m\n\u001b[0;32m      4\u001b[0m     \u001b[0mxlabel\u001b[0m\u001b[1;33m=\u001b[0m\u001b[1;34m'Categories'\u001b[0m\u001b[1;33m,\u001b[0m\u001b[1;33m\u001b[0m\u001b[1;33m\u001b[0m\u001b[0m\n\u001b[0;32m      5\u001b[0m     \u001b[0mylabel\u001b[0m\u001b[1;33m=\u001b[0m\u001b[1;34m'Quantity'\u001b[0m\u001b[1;33m,\u001b[0m\u001b[1;33m\u001b[0m\u001b[1;33m\u001b[0m\u001b[0m\n",
      "\u001b[1;31mNameError\u001b[0m: name 'user_id' is not defined"
     ]
    }
   ],
   "source": [
    "# Top 10 popular categories in new user \n",
    "user_id['category_code'].value_counts().nlargest(10).plot( \n",
    "    kind='bar', \n",
    "    xlabel='Categories', \n",
    "    ylabel='Quantity', \n",
    "    label='Top 10 Popular Categories in New User', subplots=True)"
   ]
  },
  {
   "cell_type": "code",
   "execution_count": 83,
   "id": "2597240d",
   "metadata": {},
   "outputs": [
    {
     "data": {
      "text/html": [
       "<div>\n",
       "<style scoped>\n",
       "    .dataframe tbody tr th:only-of-type {\n",
       "        vertical-align: middle;\n",
       "    }\n",
       "\n",
       "    .dataframe tbody tr th {\n",
       "        vertical-align: top;\n",
       "    }\n",
       "\n",
       "    .dataframe thead th {\n",
       "        text-align: right;\n",
       "    }\n",
       "</style>\n",
       "<table border=\"1\" class=\"dataframe\">\n",
       "  <thead>\n",
       "    <tr style=\"text-align: right;\">\n",
       "      <th></th>\n",
       "      <th>category_id</th>\n",
       "      <th>category_code</th>\n",
       "      <th>brand</th>\n",
       "      <th>price</th>\n",
       "      <th>user_id</th>\n",
       "      <th>user_session</th>\n",
       "      <th>Age</th>\n",
       "      <th>Gender</th>\n",
       "      <th>Income</th>\n",
       "      <th>Education</th>\n",
       "      <th>Marital Status</th>\n",
       "    </tr>\n",
       "    <tr>\n",
       "      <th>Campaign Response</th>\n",
       "      <th></th>\n",
       "      <th></th>\n",
       "      <th></th>\n",
       "      <th></th>\n",
       "      <th></th>\n",
       "      <th></th>\n",
       "      <th></th>\n",
       "      <th></th>\n",
       "      <th></th>\n",
       "      <th></th>\n",
       "      <th></th>\n",
       "    </tr>\n",
       "  </thead>\n",
       "  <tbody>\n",
       "    <tr>\n",
       "      <th>No</th>\n",
       "      <td>232497</td>\n",
       "      <td>232497</td>\n",
       "      <td>232497</td>\n",
       "      <td>232497</td>\n",
       "      <td>232497</td>\n",
       "      <td>232497</td>\n",
       "      <td>232497</td>\n",
       "      <td>232497</td>\n",
       "      <td>232497</td>\n",
       "      <td>232497</td>\n",
       "      <td>232497</td>\n",
       "    </tr>\n",
       "    <tr>\n",
       "      <th>Yes</th>\n",
       "      <td>233144</td>\n",
       "      <td>233144</td>\n",
       "      <td>233144</td>\n",
       "      <td>233144</td>\n",
       "      <td>233144</td>\n",
       "      <td>233144</td>\n",
       "      <td>233144</td>\n",
       "      <td>233144</td>\n",
       "      <td>233144</td>\n",
       "      <td>233144</td>\n",
       "      <td>233144</td>\n",
       "    </tr>\n",
       "  </tbody>\n",
       "</table>\n",
       "</div>"
      ],
      "text/plain": [
       "                   category_id  category_code   brand   price  user_id  \\\n",
       "Campaign Response                                                        \n",
       "No                      232497         232497  232497  232497   232497   \n",
       "Yes                     233144         233144  233144  233144   233144   \n",
       "\n",
       "                   user_session     Age  Gender  Income  Education  \\\n",
       "Campaign Response                                                    \n",
       "No                       232497  232497  232497  232497     232497   \n",
       "Yes                      233144  233144  233144  233144     233144   \n",
       "\n",
       "                   Marital Status  \n",
       "Campaign Response                  \n",
       "No                         232497  \n",
       "Yes                        233144  "
      ]
     },
     "execution_count": 83,
     "metadata": {},
     "output_type": "execute_result"
    }
   ],
   "source": [
    "me_df.groupby('Campaign Response').count()"
   ]
  },
  {
   "cell_type": "code",
   "execution_count": 86,
   "id": "8ac5cf53",
   "metadata": {},
   "outputs": [
    {
     "name": "stdout",
     "output_type": "stream",
     "text": [
      "Collecting pydataset\n",
      "  Downloading pydataset-0.2.0.tar.gz (15.9 MB)\n",
      "     -------------------------------------- 15.9/15.9 MB 446.4 kB/s eta 0:00:00\n",
      "  Preparing metadata (setup.py): started\n",
      "  Preparing metadata (setup.py): finished with status 'done'\n",
      "Requirement already satisfied: pandas in c:\\users\\bida21-052\\anaconda3\\lib\\site-packages (from pydataset) (1.4.4)\n",
      "Requirement already satisfied: pytz>=2020.1 in c:\\users\\bida21-052\\anaconda3\\lib\\site-packages (from pandas->pydataset) (2022.1)\n",
      "Requirement already satisfied: numpy>=1.18.5 in c:\\users\\bida21-052\\anaconda3\\lib\\site-packages (from pandas->pydataset) (1.21.5)\n",
      "Requirement already satisfied: python-dateutil>=2.8.1 in c:\\users\\bida21-052\\anaconda3\\lib\\site-packages (from pandas->pydataset) (2.8.2)\n",
      "Requirement already satisfied: six>=1.5 in c:\\users\\bida21-052\\anaconda3\\lib\\site-packages (from python-dateutil>=2.8.1->pandas->pydataset) (1.16.0)\n",
      "Building wheels for collected packages: pydataset\n",
      "  Building wheel for pydataset (setup.py): started\n",
      "  Building wheel for pydataset (setup.py): finished with status 'done'\n",
      "  Created wheel for pydataset: filename=pydataset-0.2.0-py3-none-any.whl size=15939417 sha256=8093d3003ba19bca09c3c513718f57848b0c0b04df749be15d67d9e22884102a\n",
      "  Stored in directory: c:\\users\\bida21-052\\appdata\\local\\pip\\cache\\wheels\\6b\\86\\a7\\f71cb84c7bff804d83e293615a20c0531234397b796aee2645\n",
      "Successfully built pydataset\n",
      "Installing collected packages: pydataset\n",
      "Successfully installed pydataset-0.2.0\n",
      "Note: you may need to restart the kernel to use updated packages.\n"
     ]
    }
   ],
   "source": [
    "pip install pydataset"
   ]
  },
  {
   "cell_type": "code",
   "execution_count": 88,
   "id": "3d95f8b1",
   "metadata": {},
   "outputs": [
    {
     "name": "stdout",
     "output_type": "stream",
     "text": [
      "Requirement already satisfied: scikit-learn in c:\\users\\bida21-052\\anaconda3\\lib\\site-packages (1.0.2)\n",
      "Requirement already satisfied: numpy>=1.14.6 in c:\\users\\bida21-052\\anaconda3\\lib\\site-packages (from scikit-learn) (1.21.5)\n",
      "Requirement already satisfied: scipy>=1.1.0 in c:\\users\\bida21-052\\anaconda3\\lib\\site-packages (from scikit-learn) (1.9.1)\n",
      "Requirement already satisfied: threadpoolctl>=2.0.0 in c:\\users\\bida21-052\\anaconda3\\lib\\site-packages (from scikit-learn) (2.2.0)\n",
      "Requirement already satisfied: joblib>=0.11 in c:\\users\\bida21-052\\anaconda3\\lib\\site-packages (from scikit-learn) (1.1.0)\n"
     ]
    }
   ],
   "source": [
    "!pip install scikit-learn"
   ]
  },
  {
   "cell_type": "code",
   "execution_count": 89,
   "id": "5b2d96b3",
   "metadata": {},
   "outputs": [
    {
     "name": "stdout",
     "output_type": "stream",
     "text": [
      "Collecting pydotplus\n",
      "  Downloading pydotplus-2.0.2.tar.gz (278 kB)\n",
      "     -------------------------------------- 278.7/278.7 kB 1.1 MB/s eta 0:00:00\n",
      "  Preparing metadata (setup.py): started\n",
      "  Preparing metadata (setup.py): finished with status 'done'\n",
      "Requirement already satisfied: pyparsing>=2.0.1 in c:\\users\\bida21-052\\anaconda3\\lib\\site-packages (from pydotplus) (3.0.9)\n",
      "Building wheels for collected packages: pydotplus\n",
      "  Building wheel for pydotplus (setup.py): started\n",
      "  Building wheel for pydotplus (setup.py): finished with status 'done'\n",
      "  Created wheel for pydotplus: filename=pydotplus-2.0.2-py3-none-any.whl size=24554 sha256=c58789acabe3ae6cb7ca12296e48837dbf894000e088d5d2297ece4892319f2f\n",
      "  Stored in directory: c:\\users\\bida21-052\\appdata\\local\\pip\\cache\\wheels\\89\\e5\\de\\6966007cf223872eedfbebbe0e074534e72e9128c8fd4b55eb\n",
      "Successfully built pydotplus\n",
      "Installing collected packages: pydotplus\n",
      "Successfully installed pydotplus-2.0.2\n"
     ]
    }
   ],
   "source": [
    "!pip install pydotplus"
   ]
  },
  {
   "cell_type": "code",
   "execution_count": 107,
   "id": "05a025ee",
   "metadata": {},
   "outputs": [],
   "source": [
    "import pandas as pd\n",
    "from pydataset import data\n",
    "from sklearn import metrics\n",
    "from sklearn import tree\n",
    "from io import StringIO\n",
    "from IPython.display import Image\n",
    "from sklearn.tree import export_graphviz\n",
    "import pydotplus\n"
   ]
  },
  {
   "cell_type": "code",
   "execution_count": 108,
   "id": "3535b4fd",
   "metadata": {},
   "outputs": [],
   "source": [
    "import os\n",
    "\n",
    "# Set the GraphViz executable path\n",
    "graphviz_path = r'C:\\Users\\bida21-052\\Downloads\\windows_10_msbuild_Release_graphviz-8.0.5-win32'  # Replace with the actual GraphViz executable path\n",
    "\n",
    "# Add the GraphViz path to the system's PATH environment variable\n",
    "os.environ[\"PATH\"] += os.pathsep + graphviz_path"
   ]
  },
  {
   "cell_type": "code",
   "execution_count": 109,
   "id": "5c05fcf3",
   "metadata": {},
   "outputs": [],
   "source": [
    "X=me_df[['Gender']]\n",
    "me_df['Campaign Response']=me_df['Campaign Response'].replace(1,'Yes')\n",
    "me_df['Campaign Response']=me_df['Campaign Response'].replace(2,'No')\n",
    "y=me_df['Campaign Response']"
   ]
  },
  {
   "cell_type": "code",
   "execution_count": 110,
   "id": "87472f64",
   "metadata": {},
   "outputs": [],
   "source": [
    "X_encoded = pd.get_dummies(X, columns=['Gender'])\n",
    "clf = tree.DecisionTreeClassifier(min_samples_split=2000)\n",
    "clf = clf.fit(X_encoded, y)"
   ]
  },
  {
   "cell_type": "code",
   "execution_count": 111,
   "id": "ce33c6db",
   "metadata": {},
   "outputs": [
    {
     "data": {
      "image/png": "[encoded data removed]",
      "text/plain": [
       "<IPython.core.display.Image object>"
      ]
     },
     "execution_count": 111,
     "metadata": {},
     "output_type": "execute_result"
    }
   ],
   "source": [
    "cn=['Yes', 'No']\n",
    "dot_data = StringIO()\n",
    "export_graphviz(clf, out_file=dot_data,\n",
    "               filled=True,feature_names=list(X_encoded.columns.values),class_names=cn)\n",
    "graph = pydotplus.graph_from_dot_data(dot_data.getvalue())\n",
    "Image(graph.create_png())"
   ]
  },
  {
   "cell_type": "code",
   "execution_count": 112,
   "id": "0f1e3c20",
   "metadata": {
    "scrolled": true
   },
   "outputs": [
    {
     "data": {
      "text/html": [
       "<div>\n",
       "<style scoped>\n",
       "    .dataframe tbody tr th:only-of-type {\n",
       "        vertical-align: middle;\n",
       "    }\n",
       "\n",
       "    .dataframe tbody tr th {\n",
       "        vertical-align: top;\n",
       "    }\n",
       "\n",
       "    .dataframe thead th {\n",
       "        text-align: right;\n",
       "    }\n",
       "</style>\n",
       "<table border=\"1\" class=\"dataframe\">\n",
       "  <thead>\n",
       "    <tr style=\"text-align: right;\">\n",
       "      <th></th>\n",
       "      <th>category_id</th>\n",
       "      <th>price</th>\n",
       "      <th>user_id</th>\n",
       "      <th>Age</th>\n",
       "      <th>Income</th>\n",
       "    </tr>\n",
       "  </thead>\n",
       "  <tbody>\n",
       "    <tr>\n",
       "      <th>count</th>\n",
       "      <td>4.656410e+05</td>\n",
       "      <td>465641.000000</td>\n",
       "      <td>4.656410e+05</td>\n",
       "      <td>465641.000000</td>\n",
       "      <td>465641.000000</td>\n",
       "    </tr>\n",
       "    <tr>\n",
       "      <th>mean</th>\n",
       "      <td>2.054459e+18</td>\n",
       "      <td>410.934575</td>\n",
       "      <td>5.321455e+08</td>\n",
       "      <td>41.069279</td>\n",
       "      <td>96900.107211</td>\n",
       "    </tr>\n",
       "    <tr>\n",
       "      <th>std</th>\n",
       "      <td>9.515907e+15</td>\n",
       "      <td>420.269978</td>\n",
       "      <td>1.679290e+07</td>\n",
       "      <td>13.347811</td>\n",
       "      <td>53675.723299</td>\n",
       "    </tr>\n",
       "    <tr>\n",
       "      <th>min</th>\n",
       "      <td>2.053010e+18</td>\n",
       "      <td>0.000000</td>\n",
       "      <td>2.449511e+08</td>\n",
       "      <td>20.000000</td>\n",
       "      <td>20002.000000</td>\n",
       "    </tr>\n",
       "    <tr>\n",
       "      <th>25%</th>\n",
       "      <td>2.053010e+18</td>\n",
       "      <td>130.700000</td>\n",
       "      <td>5.159166e+08</td>\n",
       "      <td>29.000000</td>\n",
       "      <td>51145.000000</td>\n",
       "    </tr>\n",
       "    <tr>\n",
       "      <th>50%</th>\n",
       "      <td>2.053010e+18</td>\n",
       "      <td>254.110000</td>\n",
       "      <td>5.293926e+08</td>\n",
       "      <td>41.000000</td>\n",
       "      <td>90553.000000</td>\n",
       "    </tr>\n",
       "    <tr>\n",
       "      <th>75%</th>\n",
       "      <td>2.053010e+18</td>\n",
       "      <td>587.560000</td>\n",
       "      <td>5.493729e+08</td>\n",
       "      <td>53.000000</td>\n",
       "      <td>125842.000000</td>\n",
       "    </tr>\n",
       "    <tr>\n",
       "      <th>max</th>\n",
       "      <td>2.175420e+18</td>\n",
       "      <td>2574.040000</td>\n",
       "      <td>5.557277e+08</td>\n",
       "      <td>64.000000</td>\n",
       "      <td>249980.000000</td>\n",
       "    </tr>\n",
       "  </tbody>\n",
       "</table>\n",
       "</div>"
      ],
      "text/plain": [
       "        category_id          price       user_id            Age         Income\n",
       "count  4.656410e+05  465641.000000  4.656410e+05  465641.000000  465641.000000\n",
       "mean   2.054459e+18     410.934575  5.321455e+08      41.069279   96900.107211\n",
       "std    9.515907e+15     420.269978  1.679290e+07      13.347811   53675.723299\n",
       "min    2.053010e+18       0.000000  2.449511e+08      20.000000   20002.000000\n",
       "25%    2.053010e+18     130.700000  5.159166e+08      29.000000   51145.000000\n",
       "50%    2.053010e+18     254.110000  5.293926e+08      41.000000   90553.000000\n",
       "75%    2.053010e+18     587.560000  5.493729e+08      53.000000  125842.000000\n",
       "max    2.175420e+18    2574.040000  5.557277e+08      64.000000  249980.000000"
      ]
     },
     "execution_count": 112,
     "metadata": {},
     "output_type": "execute_result"
    }
   ],
   "source": [
    "me_df.describe()"
   ]
  },
  {
   "cell_type": "code",
   "execution_count": 122,
   "id": "d2436efa",
   "metadata": {},
   "outputs": [
    {
     "name": "stdout",
     "output_type": "stream",
     "text": [
      "Outliers in column price\n",
      "         category_id           category_code  brand    price    user_id  \\\n",
      "2       2.053010e+18      computers.notebook     hp  1512.78  550050854   \n",
      "8       2.053010e+18  electronics.smartphone  apple  1747.79  535871217   \n",
      "9       2.053010e+18  electronics.smartphone  apple  1747.79  535871217   \n",
      "22      2.053010e+18  electronics.smartphone  apple  1415.48  555446831   \n",
      "24      2.053010e+18  electronics.smartphone  apple  1413.16  555446831   \n",
      "...              ...                     ...    ...      ...        ...   \n",
      "465601  2.053010e+18  electronics.smartphone  apple  1541.61  515777586   \n",
      "465615  2.053010e+18  electronics.smartphone  apple  1747.79  554266927   \n",
      "465617  2.053010e+18  electronics.smartphone  apple  1747.79  551865704   \n",
      "465624  2.053010e+18      computers.notebook  apple  1352.67  553947741   \n",
      "465639  2.053010e+18  electronics.smartphone  apple  1415.48  537482499   \n",
      "\n",
      "                                user_session  Age  Gender  Income  \\\n",
      "2       7c90fc70-0e80-4590-96f3-13c02c18c713   28    Male   45961   \n",
      "8       c6bd7419-2748-4c56-95b4-8cec9ff8b80d   20    Male   87518   \n",
      "9       c6bd7419-2748-4c56-95b4-8cec9ff8b80d   20    Male   87518   \n",
      "22      627e7674-f2b8-4074-b70c-d457db089078   23  Female   35426   \n",
      "24      627e7674-f2b8-4074-b70c-d457db089078   23  Female   35426   \n",
      "...                                      ...  ...     ...     ...   \n",
      "465601  b23d3130-71bc-4b95-8813-a5a625283847   49    Male   98950   \n",
      "465615  345bfc6c-89bc-4ef7-8e99-378061a3ed1f   54    Male  160001   \n",
      "465617  97c76cce-c37a-4f2e-87ba-3cbc0a1f19b7   29    Male   94933   \n",
      "465624  1c3d3f67-ce19-416f-bd6a-172eb4554a7d   25    Male   83948   \n",
      "465639  60b0e052-920c-4469-9627-952aa88d0b16   44  Female   48727   \n",
      "\n",
      "                Education Marital Status Campaign Response  \n",
      "2             High School         Single                No  \n",
      "8       Bachelor's Degree         Single                No  \n",
      "9       Bachelor's Degree         Single                No  \n",
      "22            High School         Single               Yes  \n",
      "24            High School         Single               Yes  \n",
      "...                   ...            ...               ...  \n",
      "465601        High School         Single               Yes  \n",
      "465615                PhD        Married               Yes  \n",
      "465617        High School         Single                No  \n",
      "465624  Bachelor's Degree         Single               Yes  \n",
      "465639    Master's Degree         Single                No  \n",
      "\n",
      "[24861 rows x 12 columns]\n",
      "\n",
      "Outliers in column Income\n",
      "         category_id           category_code    brand    price    user_id  \\\n",
      "650     2.053010e+18  electronics.smartphone  samsung   134.42  553420432   \n",
      "651     2.053010e+18  electronics.smartphone     oppo   179.38  553420432   \n",
      "652     2.053010e+18  electronics.smartphone     oppo   179.38  553420432   \n",
      "874     2.053010e+18  electronics.smartphone  samsung   229.07  545623354   \n",
      "974     2.053010e+18  electronics.smartphone  samsung   229.07  537942788   \n",
      "...              ...                     ...      ...      ...        ...   \n",
      "464886  2.053010e+18  electronics.smartphone    apple   975.56  522065038   \n",
      "464887  2.053010e+18  electronics.smartphone    apple  1415.48  522065038   \n",
      "464888  2.053010e+18  electronics.smartphone    apple   975.57  522065038   \n",
      "465042  2.053010e+18  electronics.smartphone    apple   464.01  555726683   \n",
      "465610  2.053010e+18  electronics.smartphone  polaris    33.41  517295324   \n",
      "\n",
      "                                user_session  Age  Gender  Income Education  \\\n",
      "650     6d78f8a3-860e-48c0-8cfd-e491e9ec2ff1   54    Male  243660       PhD   \n",
      "651     6d78f8a3-860e-48c0-8cfd-e491e9ec2ff1   54    Male  243660       PhD   \n",
      "652     6d78f8a3-860e-48c0-8cfd-e491e9ec2ff1   54    Male  243660       PhD   \n",
      "874     64fbe20e-19c7-45c6-b188-de4fc7d5d050   52    Male  241027       PhD   \n",
      "974     a102e0fb-092f-4c65-93b0-f8767cf11386   51  Female  247117       PhD   \n",
      "...                                      ...  ...     ...     ...       ...   \n",
      "464886  613b0f18-0b27-4533-a527-5f31989163c6   57  Female  238498       PhD   \n",
      "464887  613b0f18-0b27-4533-a527-5f31989163c6   57  Female  238498       PhD   \n",
      "464888  613b0f18-0b27-4533-a527-5f31989163c6   57  Female  238498       PhD   \n",
      "465042  8d5809ce-e79f-44d8-ba3f-9d53f2141df0   64    Male  242801       PhD   \n",
      "465610  0d6bb53d-1b42-4c49-90d8-0b9674730f53   64  Female  244892       PhD   \n",
      "\n",
      "       Marital Status Campaign Response  \n",
      "650           Married                No  \n",
      "651           Married                No  \n",
      "652           Married                No  \n",
      "874           Widowed               Yes  \n",
      "974           Married               Yes  \n",
      "...               ...               ...  \n",
      "464886        Married                No  \n",
      "464887        Married                No  \n",
      "464888        Married                No  \n",
      "465042        Married               Yes  \n",
      "465610        Widowed                No  \n",
      "\n",
      "[4313 rows x 12 columns]\n",
      "\n"
     ]
    }
   ],
   "source": [
    "import pandas as pd\n",
    "\n",
    "# Assuming you have a DataFrame named 'data'\n",
    "numeric_columns = ['price', 'Income']  # Specify your numeric columns\n",
    "\n",
    "for column in numeric_columns:\n",
    "    q1 = me_df[column].quantile(0.25)  # 1st quartile\n",
    "    q3 = me_df[column].quantile(0.75)  # 3rd quartile\n",
    "    iqr = q3 - q1  # Interquartile range\n",
    "\n",
    "    # Define the lower and upper bounds for outliers\n",
    "    lower_bound = q1 - 1.5 * iqr\n",
    "    upper_bound = q3 + 1.5 * iqr\n",
    "\n",
    "    # Detect outliers\n",
    "    outliers = me_df[(me_df[column] < lower_bound) | (me_df[column] > upper_bound)]\n",
    "\n",
    "    # Print the outliers\n",
    "    print(\"Outliers in column\", column)\n",
    "    print(outliers)\n",
    "    print()\n"
   ]
  },
  {
   "cell_type": "code",
   "execution_count": 128,
   "id": "ae116e07",
   "metadata": {},
   "outputs": [
    {
     "data": {
      "image/png": "[encoded data removed]",
      "text/plain": [
       "<Figure size 640x480 with 1 Axes>"
      ]
     },
     "metadata": {},
     "output_type": "display_data"
    }
   ],
   "source": [
    "import matplotlib.pyplot as plt\n",
    "\n",
    "# Filter the data by gender\n",
    "male_data = me_df[me_df['Gender'] == 'Male']\n",
    "female_data = me_df[me_df['Gender'] == 'Female']\n",
    "\n",
    "# Group the filtered data by age and count the number of occurrences\n",
    "male_counts = male_data.groupby('Age').size()\n",
    "female_counts = female_data.groupby('Age').size()\n",
    "\n",
    "# Create two line plots, one for males and one for females\n",
    "plt.plot(male_counts.index, male_counts.values, label='Male')\n",
    "plt.plot(female_counts.index, female_counts.values, label='Female')\n",
    "\n",
    "# Add axis labels and a title\n",
    "plt.xlabel('Age')\n",
    "plt.ylabel('Count')\n",
    "plt.title('Line Chart of Age by Gender')\n",
    "\n",
    "# Add a legend\n",
    "plt.legend()\n",
    "\n",
    "# Show the plot\n",
    "plt.show()"
   ]
  },
  {
   "cell_type": "code",
   "execution_count": null,
   "id": "3349a7d3",
   "metadata": {},
   "outputs": [],
   "source": []
  }
 ],
 "metadata": {
  "kernelspec": {
   "display_name": "Python 3 (ipykernel)",
   "language": "python",
   "name": "python3"
  },
  "language_info": {
   "codemirror_mode": {
    "name": "ipython",
    "version": 3
   },
   "file_extension": ".py",
   "mimetype": "text/x-python",
   "name": "python",
   "nbconvert_exporter": "python",
   "pygments_lexer": "ipython3",
   "version": "3.9.13"
  }
 },
 "nbformat": 4,
 "nbformat_minor": 5
}
